{
 "cells": [
  {
   "cell_type": "markdown",
   "id": "79049f67-2e34-499a-bb01-6a13cf338c6c",
   "metadata": {
    "id": "79049f67-2e34-499a-bb01-6a13cf338c6c"
   },
   "source": [
    "## Base Social Network Analysis Statistics Using Python"
   ]
  },
  {
   "cell_type": "markdown",
   "id": "3ef156b3-d14d-405c-8d91-252461a23082",
   "metadata": {
    "id": "3ef156b3-d14d-405c-8d91-252461a23082"
   },
   "source": [
    "### Creating the graph"
   ]
  },
  {
   "cell_type": "code",
   "execution_count": 18,
   "id": "c97ff816-c0eb-4978-a0a8-971ce9b2be5f",
   "metadata": {
    "colab": {
     "base_uri": "https://localhost:8080/"
    },
    "executionInfo": {
     "elapsed": 11271,
     "status": "ok",
     "timestamp": 1758248494785,
     "user": {
      "displayName": "",
      "userId": ""
     },
     "user_tz": 180
    },
    "id": "c97ff816-c0eb-4978-a0a8-971ce9b2be5f",
    "outputId": "e0f65f6d-f25f-46d4-e67a-9e0dfa442a47"
   },
   "outputs": [
    {
     "name": "stdout",
     "output_type": "stream",
     "text": [
      "Requirement already satisfied: igraph in /usr/local/lib/python3.12/dist-packages (0.11.9)\n",
      "Requirement already satisfied: texttable>=1.6.2 in /usr/local/lib/python3.12/dist-packages (from igraph) (1.7.0)\n",
      "Requirement already satisfied: pycairo in /usr/local/lib/python3.12/dist-packages (1.28.0)\n"
     ]
    }
   ],
   "source": [
    "# in case these are not available at Colab (already available at environment.yml for Conda env creation)\n",
    "!pip install igraph\n",
    "!pip install pycairo\n",
    "\n",
    "# importing libs (already installed using Conda - see environment.yml)\n",
    "from igraph import Graph, plot\n",
    "import pandas as pd\n",
    "import numpy as np"
   ]
  },
  {
   "cell_type": "code",
   "execution_count": 19,
   "id": "147998ec-2b56-4a05-b8a5-eb55e8df9652",
   "metadata": {
    "colab": {
     "base_uri": "https://localhost:8080/"
    },
    "executionInfo": {
     "elapsed": 6,
     "status": "ok",
     "timestamp": 1758248494800,
     "user": {
      "displayName": "",
      "userId": ""
     },
     "user_tz": 180
    },
    "id": "147998ec-2b56-4a05-b8a5-eb55e8df9652",
    "outputId": "569ffe22-2130-49b8-db21-51a1e884b0f0"
   },
   "outputs": [
    {
     "name": "stdout",
     "output_type": "stream",
     "text": [
      "IGRAPH UN-- 5 5 --\n",
      "+ attr: name (v)\n",
      "+ edges (vertex names):\n",
      "A--B, B--C, B--D, C--D, C--E\n"
     ]
    }
   ],
   "source": [
    "# creating sample graph, setting vertices and edges\n",
    "g = Graph()\n",
    "g.add_vertices(5)\n",
    "g.vs[\"name\"] = [\"A\", \"B\", \"C\", \"D\", \"E\"]\n",
    "g.add_edges([(\"A\",\"B\"), (\"B\",\"C\"), (\"B\",\"D\"), (\"D\",\"C\"), (\"C\",\"E\")])\n",
    "print(g)"
   ]
  },
  {
   "cell_type": "code",
   "execution_count": 20,
   "id": "0e37ba53-d9aa-4772-bc8f-60f7ad989f5f",
   "metadata": {
    "executionInfo": {
     "elapsed": 149,
     "status": "ok",
     "timestamp": 1758248494958,
     "user": {
      "displayName": "",
      "userId": ""
     },
     "user_tz": 180
    },
    "id": "0e37ba53-d9aa-4772-bc8f-60f7ad989f5f"
   },
   "outputs": [],
   "source": [
    "# setting weights (later set as each edge_width), here an undirected graph with all weights equal\n",
    "g.es[\"weight\"]=[1,1,1,1,1]"
   ]
  },
  {
   "cell_type": "code",
   "execution_count": 21,
   "id": "293cf706-07af-48bd-8d3d-a26365ba89c9",
   "metadata": {
    "colab": {
     "base_uri": "https://localhost:8080/",
     "height": 287
    },
    "executionInfo": {
     "elapsed": 148,
     "status": "ok",
     "timestamp": 1758248494990,
     "user": {
      "displayName": "",
      "userId": ""
     },
     "user_tz": 180
    },
    "id": "293cf706-07af-48bd-8d3d-a26365ba89c9",
    "outputId": "859708b2-9c57-49b3-ffbb-d7bbf0d25d7c"
   },
   "outputs": [
    {
     "data": {
      "image/svg+xml": [
       "<?xml version=\"1.0\" encoding=\"UTF-8\"?>\n",
       "<svg xmlns=\"http://www.w3.org/2000/svg\" xmlns:xlink=\"http://www.w3.org/1999/xlink\" width=\"200pt\" height=\"200pt\" viewBox=\"0 0 200 200\" version=\"1.1\">\n",
       "<defs>\n",
       "<g>\n",
       "<symbol overflow=\"visible\" id=\"glyph0-0\">\n",
       "<path style=\"stroke:none;\" d=\"M 0.46875 0 L 0.46875 -9.328125 L 4.1875 -9.328125 L 4.1875 0 Z M 0.9375 -0.46875 L 3.71875 -0.46875 L 3.71875 -8.859375 L 0.9375 -8.859375 Z M 0.9375 -0.46875 \"/>\n",
       "</symbol>\n",
       "<symbol overflow=\"visible\" id=\"glyph0-1\">\n",
       "<path style=\"stroke:none;\" d=\"M 7.0625 0 L 6.125 -2.609375 L 2.28125 -2.609375 L 1.34375 0 L 0 0 L 3.484375 -9.21875 L 4.96875 -9.21875 L 8.390625 0 Z M 4.796875 -6.515625 C 4.734375 -6.691406 4.671875 -6.867188 4.609375 -7.046875 C 4.546875 -7.222656 4.488281 -7.390625 4.4375 -7.546875 C 4.382812 -7.710938 4.335938 -7.851562 4.296875 -7.96875 C 4.253906 -8.09375 4.226562 -8.179688 4.21875 -8.234375 C 4.195312 -8.179688 4.164062 -8.09375 4.125 -7.96875 C 4.09375 -7.84375 4.050781 -7.703125 4 -7.546875 C 3.945312 -7.390625 3.890625 -7.222656 3.828125 -7.046875 C 3.773438 -6.867188 3.71875 -6.691406 3.65625 -6.515625 L 2.625 -3.625 L 5.796875 -3.625 Z M 4.796875 -6.515625 \"/>\n",
       "</symbol>\n",
       "<symbol overflow=\"visible\" id=\"glyph0-2\">\n",
       "<path style=\"stroke:none;\" d=\"M 7.875 -2.59375 C 7.875 -2.125 7.773438 -1.722656 7.578125 -1.390625 C 7.390625 -1.066406 7.132812 -0.800781 6.8125 -0.59375 C 6.488281 -0.382812 6.113281 -0.234375 5.6875 -0.140625 C 5.257812 -0.046875 4.804688 0 4.328125 0 L 1.109375 0 L 1.109375 -9.21875 L 3.921875 -9.21875 C 4.453125 -9.21875 4.925781 -9.175781 5.34375 -9.09375 C 5.769531 -9.007812 6.128906 -8.875 6.421875 -8.6875 C 6.710938 -8.507812 6.929688 -8.28125 7.078125 -8 C 7.234375 -7.71875 7.3125 -7.378906 7.3125 -6.984375 C 7.3125 -6.734375 7.273438 -6.488281 7.203125 -6.25 C 7.128906 -6.019531 7.015625 -5.8125 6.859375 -5.625 C 6.703125 -5.445312 6.507812 -5.289062 6.28125 -5.15625 C 6.0625 -5.019531 5.796875 -4.921875 5.484375 -4.859375 C 5.867188 -4.816406 6.207031 -4.734375 6.5 -4.609375 C 6.800781 -4.484375 7.050781 -4.320312 7.25 -4.125 C 7.457031 -3.925781 7.613281 -3.695312 7.71875 -3.4375 C 7.820312 -3.175781 7.875 -2.894531 7.875 -2.59375 Z M 6 -6.828125 C 6 -7.304688 5.828125 -7.648438 5.484375 -7.859375 C 5.140625 -8.066406 4.625 -8.171875 3.9375 -8.171875 L 2.40625 -8.171875 L 2.40625 -5.328125 L 3.953125 -5.328125 C 4.316406 -5.328125 4.628906 -5.363281 4.890625 -5.4375 C 5.148438 -5.507812 5.363281 -5.609375 5.53125 -5.734375 C 5.695312 -5.867188 5.816406 -6.023438 5.890625 -6.203125 C 5.960938 -6.390625 6 -6.597656 6 -6.828125 Z M 6.5625 -2.71875 C 6.5625 -3 6.5 -3.238281 6.375 -3.4375 C 6.257812 -3.644531 6.097656 -3.8125 5.890625 -3.9375 C 5.679688 -4.070312 5.425781 -4.164062 5.125 -4.21875 C 4.832031 -4.28125 4.503906 -4.3125 4.140625 -4.3125 L 2.40625 -4.3125 L 2.40625 -1.046875 L 4.234375 -1.046875 C 4.566406 -1.046875 4.875 -1.070312 5.15625 -1.125 C 5.4375 -1.175781 5.679688 -1.265625 5.890625 -1.390625 C 6.097656 -1.523438 6.257812 -1.695312 6.375 -1.90625 C 6.5 -2.125 6.5625 -2.394531 6.5625 -2.71875 Z M 6.5625 -2.71875 \"/>\n",
       "</symbol>\n",
       "<symbol overflow=\"visible\" id=\"glyph0-3\">\n",
       "<path style=\"stroke:none;\" d=\"M 2.140625 -4.65625 C 2.140625 -4.0625 2.1875 -3.53125 2.28125 -3.0625 C 2.375 -2.601562 2.515625 -2.210938 2.703125 -1.890625 C 2.898438 -1.578125 3.144531 -1.335938 3.4375 -1.171875 C 3.738281 -1.003906 4.097656 -0.921875 4.515625 -0.921875 C 4.804688 -0.921875 5.066406 -0.972656 5.296875 -1.078125 C 5.523438 -1.191406 5.726562 -1.335938 5.90625 -1.515625 C 6.09375 -1.691406 6.25 -1.894531 6.375 -2.125 C 6.507812 -2.363281 6.625 -2.601562 6.71875 -2.84375 L 7.8125 -2.40625 C 7.675781 -2.082031 7.515625 -1.769531 7.328125 -1.46875 C 7.148438 -1.164062 6.925781 -0.894531 6.65625 -0.65625 C 6.394531 -0.414062 6.085938 -0.222656 5.734375 -0.078125 C 5.378906 0.0664062 4.96875 0.140625 4.5 0.140625 C 3.863281 0.140625 3.3125 0.0234375 2.84375 -0.203125 C 2.375 -0.429688 1.984375 -0.753906 1.671875 -1.171875 C 1.367188 -1.597656 1.140625 -2.101562 0.984375 -2.6875 C 0.835938 -3.28125 0.765625 -3.9375 0.765625 -4.65625 C 0.765625 -5.414062 0.835938 -6.085938 0.984375 -6.671875 C 1.128906 -7.253906 1.351562 -7.742188 1.65625 -8.140625 C 1.957031 -8.546875 2.335938 -8.847656 2.796875 -9.046875 C 3.265625 -9.253906 3.8125 -9.359375 4.4375 -9.359375 C 4.894531 -9.359375 5.296875 -9.296875 5.640625 -9.171875 C 5.992188 -9.046875 6.296875 -8.878906 6.546875 -8.671875 C 6.796875 -8.460938 7.007812 -8.21875 7.1875 -7.9375 C 7.363281 -7.664062 7.507812 -7.378906 7.625 -7.078125 L 6.46875 -6.625 C 6.40625 -6.84375 6.3125 -7.050781 6.1875 -7.25 C 6.070312 -7.445312 5.929688 -7.625 5.765625 -7.78125 C 5.597656 -7.9375 5.40625 -8.0625 5.1875 -8.15625 C 4.96875 -8.25 4.71875 -8.296875 4.4375 -8.296875 C 4.03125 -8.296875 3.679688 -8.21875 3.390625 -8.0625 C 3.109375 -7.90625 2.875 -7.671875 2.6875 -7.359375 C 2.5 -7.054688 2.359375 -6.675781 2.265625 -6.21875 C 2.179688 -5.769531 2.140625 -5.25 2.140625 -4.65625 Z M 2.140625 -4.65625 \"/>\n",
       "</symbol>\n",
       "<symbol overflow=\"visible\" id=\"glyph0-4\">\n",
       "<path style=\"stroke:none;\" d=\"M 7.6875 -4.703125 C 7.6875 -3.941406 7.59375 -3.265625 7.40625 -2.671875 C 7.226562 -2.085938 6.96875 -1.597656 6.625 -1.203125 C 6.28125 -0.804688 5.851562 -0.503906 5.34375 -0.296875 C 4.84375 -0.0976562 4.273438 0 3.640625 0 L 1.109375 0 L 1.109375 -9.21875 L 3.234375 -9.21875 C 3.953125 -9.21875 4.585938 -9.128906 5.140625 -8.953125 C 5.691406 -8.785156 6.15625 -8.515625 6.53125 -8.140625 C 6.914062 -7.773438 7.203125 -7.304688 7.390625 -6.734375 C 7.585938 -6.160156 7.6875 -5.484375 7.6875 -4.703125 Z M 6.375 -4.703125 C 6.375 -5.316406 6.3125 -5.84375 6.1875 -6.28125 C 6.0625 -6.71875 5.867188 -7.070312 5.609375 -7.34375 C 5.347656 -7.625 5.019531 -7.828125 4.625 -7.953125 C 4.238281 -8.085938 3.773438 -8.15625 3.234375 -8.15625 L 2.40625 -8.15625 L 2.40625 -1.0625 L 3.515625 -1.0625 C 4.484375 -1.0625 5.203125 -1.363281 5.671875 -1.96875 C 6.140625 -2.582031 6.375 -3.492188 6.375 -4.703125 Z M 6.375 -4.703125 \"/>\n",
       "</symbol>\n",
       "<symbol overflow=\"visible\" id=\"glyph0-5\">\n",
       "<path style=\"stroke:none;\" d=\"M 1.109375 0 L 1.109375 -9.21875 L 7.390625 -9.21875 L 7.390625 -8.15625 L 2.40625 -8.15625 L 2.40625 -5.265625 L 6.984375 -5.265625 L 6.984375 -4.21875 L 2.40625 -4.21875 L 2.40625 -1.0625 L 7.671875 -1.0625 L 7.671875 0 Z M 1.109375 0 \"/>\n",
       "</symbol>\n",
       "</g>\n",
       "</defs>\n",
       "<g id=\"surface14\">\n",
       "<rect x=\"0\" y=\"0\" width=\"200\" height=\"200\" style=\"fill:rgb(100%,100%,100%);fill-opacity:1;stroke:none;\"/>\n",
       "<path style=\"fill:none;stroke-width:1;stroke-linecap:butt;stroke-linejoin:miter;stroke:rgb(26.666667%,26.666667%,26.666667%);stroke-opacity:1;stroke-miterlimit:10;\" d=\"M 180 180 L 107.660156 141.714844 \"/>\n",
       "<path style=\"fill:none;stroke-width:1;stroke-linecap:butt;stroke-linejoin:miter;stroke:rgb(26.666667%,26.666667%,26.666667%);stroke-opacity:1;stroke-miterlimit:10;\" d=\"M 107.660156 141.714844 L 62.65625 85.460938 \"/>\n",
       "<path style=\"fill:none;stroke-width:1;stroke-linecap:butt;stroke-linejoin:miter;stroke:rgb(26.666667%,26.666667%,26.666667%);stroke-opacity:1;stroke-miterlimit:10;\" d=\"M 107.660156 141.714844 L 20 142.292969 \"/>\n",
       "<path style=\"fill:none;stroke-width:1;stroke-linecap:butt;stroke-linejoin:miter;stroke:rgb(26.666667%,26.666667%,26.666667%);stroke-opacity:1;stroke-miterlimit:10;\" d=\"M 62.65625 85.460938 L 20 142.292969 \"/>\n",
       "<path style=\"fill:none;stroke-width:1;stroke-linecap:butt;stroke-linejoin:miter;stroke:rgb(26.666667%,26.666667%,26.666667%);stroke-opacity:1;stroke-miterlimit:10;\" d=\"M 62.65625 85.460938 L 52 20 \"/>\n",
       "<path style=\"fill-rule:nonzero;fill:rgb(100%,100%,100%);fill-opacity:1;stroke-width:1;stroke-linecap:butt;stroke-linejoin:miter;stroke:rgb(0%,0%,0%);stroke-opacity:1;stroke-miterlimit:10;\" d=\"M 190 180 C 190 185.523438 185.523438 190 180 190 C 174.476562 190 170 185.523438 170 180 C 170 174.476562 174.476562 170 180 170 C 185.523438 170 190 174.476562 190 180 \"/>\n",
       "<path style=\"fill-rule:nonzero;fill:rgb(100%,100%,100%);fill-opacity:1;stroke-width:1;stroke-linecap:butt;stroke-linejoin:miter;stroke:rgb(0%,0%,0%);stroke-opacity:1;stroke-miterlimit:10;\" d=\"M 117.660156 141.714844 C 117.660156 147.238281 113.183594 151.714844 107.660156 151.714844 C 102.136719 151.714844 97.660156 147.238281 97.660156 141.714844 C 97.660156 136.191406 102.136719 131.714844 107.660156 131.714844 C 113.183594 131.714844 117.660156 136.191406 117.660156 141.714844 \"/>\n",
       "<path style=\"fill-rule:nonzero;fill:rgb(100%,100%,100%);fill-opacity:1;stroke-width:1;stroke-linecap:butt;stroke-linejoin:miter;stroke:rgb(0%,0%,0%);stroke-opacity:1;stroke-miterlimit:10;\" d=\"M 72.65625 85.460938 C 72.65625 90.984375 68.179688 95.460938 62.65625 95.460938 C 57.136719 95.460938 52.65625 90.984375 52.65625 85.460938 C 52.65625 79.9375 57.136719 75.460938 62.65625 75.460938 C 68.179688 75.460938 72.65625 79.9375 72.65625 85.460938 \"/>\n",
       "<path style=\"fill-rule:nonzero;fill:rgb(100%,100%,100%);fill-opacity:1;stroke-width:1;stroke-linecap:butt;stroke-linejoin:miter;stroke:rgb(0%,0%,0%);stroke-opacity:1;stroke-miterlimit:10;\" d=\"M 30 142.292969 C 30 147.816406 25.523438 152.292969 20 152.292969 C 14.476562 152.292969 10 147.816406 10 142.292969 C 10 136.769531 14.476562 132.292969 20 132.292969 C 25.523438 132.292969 30 136.769531 30 142.292969 \"/>\n",
       "<path style=\"fill-rule:nonzero;fill:rgb(100%,100%,100%);fill-opacity:1;stroke-width:1;stroke-linecap:butt;stroke-linejoin:miter;stroke:rgb(0%,0%,0%);stroke-opacity:1;stroke-miterlimit:10;\" d=\"M 62 20 C 62 25.523438 57.523438 30 52 30 C 46.480469 30 42 25.523438 42 20 C 42 14.476562 46.480469 10 52 10 C 57.523438 10 62 14.476562 62 20 \"/>\n",
       "<g style=\"fill:rgb(0%,0%,0%);fill-opacity:1;\">\n",
       "  <use xlink:href=\"#glyph0-1\" x=\"175.804688\" y=\"186.710938\"/>\n",
       "</g>\n",
       "<g style=\"fill:rgb(0%,0%,0%);fill-opacity:1;\">\n",
       "  <use xlink:href=\"#glyph0-2\" x=\"103.167969\" y=\"148.425781\"/>\n",
       "</g>\n",
       "<g style=\"fill:rgb(0%,0%,0%);fill-opacity:1;\">\n",
       "  <use xlink:href=\"#glyph0-3\" x=\"58.367188\" y=\"92.246094\"/>\n",
       "</g>\n",
       "<g style=\"fill:rgb(0%,0%,0%);fill-opacity:1;\">\n",
       "  <use xlink:href=\"#glyph0-4\" x=\"15.601562\" y=\"149.007812\"/>\n",
       "</g>\n",
       "<g style=\"fill:rgb(0%,0%,0%);fill-opacity:1;\">\n",
       "  <use xlink:href=\"#glyph0-5\" x=\"47.613281\" y=\"26.710938\"/>\n",
       "</g>\n",
       "</g>\n",
       "</svg>\n"
      ],
      "text/plain": [
       "<igraph.drawing.cairo.plot.CairoPlot at 0x7abecac9b4a0>"
      ]
     },
     "execution_count": 21,
     "metadata": {
      "image/svg+xml": {
       "isolated": true
      }
     },
     "output_type": "execute_result"
    }
   ],
   "source": [
    "# configuring properties and plotting graph\n",
    "layout = g.layout(\"kk\")\n",
    "visual_style = {}\n",
    "visual_style[\"vertex_color\"] = \"white\"\n",
    "visual_style[\"vertex_size\"] = 20\n",
    "visual_style[\"vertex_label\"] = [\"A\", \"B\", \"C\", \"D\", \"E\"]\n",
    "visual_style[\"edge_width\"] = g.es[\"weight\"]\n",
    "visual_style[\"bbox\"] = (200,200)\n",
    "plot(g, **visual_style)"
   ]
  },
  {
   "cell_type": "markdown",
   "id": "792a8d12-1834-416d-9956-2b6998c16f18",
   "metadata": {
    "id": "792a8d12-1834-416d-9956-2b6998c16f18"
   },
   "source": [
    "### Extracting network metrics"
   ]
  },
  {
   "cell_type": "code",
   "execution_count": 22,
   "id": "69af293e-a80e-4036-a808-7e53852a717c",
   "metadata": {
    "colab": {
     "base_uri": "https://localhost:8080/"
    },
    "executionInfo": {
     "elapsed": 59,
     "status": "ok",
     "timestamp": 1758248495016,
     "user": {
      "displayName": "",
      "userId": ""
     },
     "user_tz": 180
    },
    "id": "69af293e-a80e-4036-a808-7e53852a717c",
    "outputId": "c65091d3-d39a-452b-eb4c-9a977e1f5ac3"
   },
   "outputs": [
    {
     "data": {
      "text/plain": [
       "0.5"
      ]
     },
     "execution_count": 22,
     "metadata": {},
     "output_type": "execute_result"
    }
   ],
   "source": [
    "g.density()"
   ]
  },
  {
   "cell_type": "code",
   "execution_count": 23,
   "id": "92fbdf7e-66ec-409c-bfd4-a15572c1b3a9",
   "metadata": {
    "colab": {
     "base_uri": "https://localhost:8080/"
    },
    "executionInfo": {
     "elapsed": 48,
     "status": "ok",
     "timestamp": 1758248495062,
     "user": {
      "displayName": "",
      "userId": ""
     },
     "user_tz": 180
    },
    "id": "92fbdf7e-66ec-409c-bfd4-a15572c1b3a9",
    "outputId": "a608233d-7a48-4b4e-8da4-aeb8d8727cbb"
   },
   "outputs": [
    {
     "data": {
      "text/plain": [
       "[1, 3, 3, 2, 1]"
      ]
     },
     "execution_count": 23,
     "metadata": {},
     "output_type": "execute_result"
    }
   ],
   "source": [
    "# degree of each vertex (from A to E)\n",
    "g.degree()"
   ]
  },
  {
   "cell_type": "code",
   "execution_count": 24,
   "id": "3693c4ab-c5e4-4f72-a14b-64d57c0b31a2",
   "metadata": {
    "colab": {
     "base_uri": "https://localhost:8080/"
    },
    "executionInfo": {
     "elapsed": 24,
     "status": "ok",
     "timestamp": 1758248495065,
     "user": {
      "displayName": "",
      "userId": ""
     },
     "user_tz": 180
    },
    "id": "3693c4ab-c5e4-4f72-a14b-64d57c0b31a2",
    "outputId": "23c4b202-6ac5-4082-ece7-f608ec061f8f"
   },
   "outputs": [
    {
     "data": {
      "text/plain": [
       "[nan, 0.3333333333333333, 0.3333333333333333, 1.0, nan]"
      ]
     },
     "execution_count": 24,
     "metadata": {},
     "output_type": "execute_result"
    }
   ],
   "source": [
    "# clustering coefficient (cc) of each vertex (from A to E)\n",
    "g.transitivity_local_undirected()"
   ]
  },
  {
   "cell_type": "code",
   "execution_count": 25,
   "id": "6203e169-388e-498a-bcc1-180e4dd07fbf",
   "metadata": {
    "colab": {
     "base_uri": "https://localhost:8080/"
    },
    "executionInfo": {
     "elapsed": 17,
     "status": "ok",
     "timestamp": 1758248495068,
     "user": {
      "displayName": "",
      "userId": ""
     },
     "user_tz": 180
    },
    "id": "6203e169-388e-498a-bcc1-180e4dd07fbf",
    "outputId": "6cf3a71e-cac1-48d7-fabb-b20a8deeff76"
   },
   "outputs": [
    {
     "data": {
      "text/plain": [
       "1.6"
      ]
     },
     "execution_count": 25,
     "metadata": {},
     "output_type": "execute_result"
    }
   ],
   "source": [
    "g.average_path_length()"
   ]
  },
  {
   "cell_type": "code",
   "execution_count": 26,
   "id": "55b60520-6d1e-4cc8-96f7-29dbae49276d",
   "metadata": {
    "colab": {
     "base_uri": "https://localhost:8080/"
    },
    "executionInfo": {
     "elapsed": 23,
     "status": "ok",
     "timestamp": 1758248495079,
     "user": {
      "displayName": "",
      "userId": ""
     },
     "user_tz": 180
    },
    "id": "55b60520-6d1e-4cc8-96f7-29dbae49276d",
    "outputId": "3c5b7fe8-90bc-4d8c-88c2-95e21c62008d"
   },
   "outputs": [
    {
     "data": {
      "text/plain": [
       "[0.5, 0.8, 0.8, 0.6666666666666666, 0.5]"
      ]
     },
     "execution_count": 26,
     "metadata": {},
     "output_type": "execute_result"
    }
   ],
   "source": [
    "# closeness of each vertex (from A to E)\n",
    "g.closeness(weights=None, normalized=True)"
   ]
  },
  {
   "cell_type": "code",
   "execution_count": 27,
   "id": "a711b724-bfab-4f94-a8de-73647110fa86",
   "metadata": {
    "colab": {
     "base_uri": "https://localhost:8080/"
    },
    "executionInfo": {
     "elapsed": 6,
     "status": "ok",
     "timestamp": 1758248495087,
     "user": {
      "displayName": "",
      "userId": ""
     },
     "user_tz": 180
    },
    "id": "a711b724-bfab-4f94-a8de-73647110fa86",
    "outputId": "c3acc06b-bf05-4573-fe23-8aa97444c90d"
   },
   "outputs": [
    {
     "data": {
      "text/plain": [
       "[0.0, 3.0, 3.0, 0.0, 0.0]"
      ]
     },
     "execution_count": 27,
     "metadata": {},
     "output_type": "execute_result"
    }
   ],
   "source": [
    "# betweenness of each vertex (from A to E)\n",
    "g.betweenness(weights=None)"
   ]
  },
  {
   "cell_type": "code",
   "execution_count": 28,
   "id": "54f68394-61cd-4e84-a949-1f9e4fe93fe1",
   "metadata": {
    "colab": {
     "base_uri": "https://localhost:8080/"
    },
    "executionInfo": {
     "elapsed": 11,
     "status": "ok",
     "timestamp": 1758248495100,
     "user": {
      "displayName": "",
      "userId": ""
     },
     "user_tz": 180
    },
    "id": "54f68394-61cd-4e84-a949-1f9e4fe93fe1",
    "outputId": "9ea733d1-a33f-41d4-cd81-e902e4b11fe0"
   },
   "outputs": [
    {
     "data": {
      "text/plain": [
       "[3.0, 2.0, 2.0, 2.0, 3.0]"
      ]
     },
     "execution_count": 28,
     "metadata": {},
     "output_type": "execute_result"
    }
   ],
   "source": [
    "# eccentricity of each vertex (from A to E)\n",
    "g.eccentricity()"
   ]
  },
  {
   "cell_type": "code",
   "execution_count": 29,
   "id": "67a4a821-9077-46be-b2a2-1d8dad47b0da",
   "metadata": {
    "colab": {
     "base_uri": "https://localhost:8080/"
    },
    "executionInfo": {
     "elapsed": 10,
     "status": "ok",
     "timestamp": 1758248495204,
     "user": {
      "displayName": "",
      "userId": ""
     },
     "user_tz": 180
    },
    "id": "67a4a821-9077-46be-b2a2-1d8dad47b0da",
    "outputId": "cfaa060c-b535-4042-8879-b35053d434aa"
   },
   "outputs": [
    {
     "data": {
      "text/plain": [
       "3"
      ]
     },
     "execution_count": 29,
     "metadata": {},
     "output_type": "execute_result"
    }
   ],
   "source": [
    "g.diameter()"
   ]
  },
  {
   "cell_type": "code",
   "execution_count": 30,
   "id": "a50d9465-5c2e-4846-b7f0-a7038797a181",
   "metadata": {
    "colab": {
     "base_uri": "https://localhost:8080/"
    },
    "executionInfo": {
     "elapsed": 55,
     "status": "ok",
     "timestamp": 1758248495262,
     "user": {
      "displayName": "",
      "userId": ""
     },
     "user_tz": 180
    },
    "id": "a50d9465-5c2e-4846-b7f0-a7038797a181",
    "outputId": "2dd99685-2681-4a6c-ad8f-03300e9bb4e4"
   },
   "outputs": [
    {
     "data": {
      "text/plain": [
       "2"
      ]
     },
     "execution_count": 30,
     "metadata": {},
     "output_type": "execute_result"
    }
   ],
   "source": [
    "g.radius()"
   ]
  },
  {
   "cell_type": "code",
   "execution_count": 31,
   "id": "f6f86195-16e6-4da9-8279-6a2275121a91",
   "metadata": {
    "colab": {
     "base_uri": "https://localhost:8080/"
    },
    "executionInfo": {
     "elapsed": 32,
     "status": "ok",
     "timestamp": 1758248495262,
     "user": {
      "displayName": "",
      "userId": ""
     },
     "user_tz": 180
    },
    "id": "f6f86195-16e6-4da9-8279-6a2275121a91",
    "outputId": "593af436-75fe-4302-fefa-a4cd97a48523"
   },
   "outputs": [
    {
     "data": {
      "text/plain": [
       "[1, 2]"
      ]
     },
     "execution_count": 31,
     "metadata": {},
     "output_type": "execute_result"
    }
   ],
   "source": [
    "# articulation point (bridge) vertices (B and C, in this case)\n",
    "g.articulation_points()"
   ]
  },
  {
   "cell_type": "markdown",
   "id": "b0264e65-5a9c-4767-ab53-172d95cf0ffe",
   "metadata": {
    "id": "b0264e65-5a9c-4767-ab53-172d95cf0ffe"
   },
   "source": [
    "### Enhacing the graph"
   ]
  },
  {
   "cell_type": "code",
   "execution_count": 32,
   "id": "1e023171-c937-40d2-9a3b-88838338e459",
   "metadata": {
    "colab": {
     "base_uri": "https://localhost:8080/",
     "height": 287
    },
    "executionInfo": {
     "elapsed": 19,
     "status": "ok",
     "timestamp": 1758248495264,
     "user": {
      "displayName": "",
      "userId": ""
     },
     "user_tz": 180
    },
    "id": "1e023171-c937-40d2-9a3b-88838338e459",
    "outputId": "095d83e9-beaf-4784-833d-e41068f8eac3"
   },
   "outputs": [
    {
     "data": {
      "image/svg+xml": [
       "<?xml version=\"1.0\" encoding=\"UTF-8\"?>\n",
       "<svg xmlns=\"http://www.w3.org/2000/svg\" xmlns:xlink=\"http://www.w3.org/1999/xlink\" width=\"200pt\" height=\"200pt\" viewBox=\"0 0 200 200\" version=\"1.1\">\n",
       "<defs>\n",
       "<g>\n",
       "<symbol overflow=\"visible\" id=\"glyph0-0\">\n",
       "<path style=\"stroke:none;\" d=\"M 0.46875 0 L 0.46875 -9.328125 L 4.1875 -9.328125 L 4.1875 0 Z M 0.9375 -0.46875 L 3.71875 -0.46875 L 3.71875 -8.859375 L 0.9375 -8.859375 Z M 0.9375 -0.46875 \"/>\n",
       "</symbol>\n",
       "<symbol overflow=\"visible\" id=\"glyph0-1\">\n",
       "<path style=\"stroke:none;\" d=\"M 7.0625 0 L 6.125 -2.609375 L 2.28125 -2.609375 L 1.34375 0 L 0 0 L 3.484375 -9.21875 L 4.96875 -9.21875 L 8.390625 0 Z M 4.796875 -6.515625 C 4.734375 -6.691406 4.671875 -6.867188 4.609375 -7.046875 C 4.546875 -7.222656 4.488281 -7.390625 4.4375 -7.546875 C 4.382812 -7.710938 4.335938 -7.851562 4.296875 -7.96875 C 4.253906 -8.09375 4.226562 -8.179688 4.21875 -8.234375 C 4.195312 -8.179688 4.164062 -8.09375 4.125 -7.96875 C 4.09375 -7.84375 4.050781 -7.703125 4 -7.546875 C 3.945312 -7.390625 3.890625 -7.222656 3.828125 -7.046875 C 3.773438 -6.867188 3.71875 -6.691406 3.65625 -6.515625 L 2.625 -3.625 L 5.796875 -3.625 Z M 4.796875 -6.515625 \"/>\n",
       "</symbol>\n",
       "<symbol overflow=\"visible\" id=\"glyph0-2\">\n",
       "<path style=\"stroke:none;\" d=\"M 7.875 -2.59375 C 7.875 -2.125 7.773438 -1.722656 7.578125 -1.390625 C 7.390625 -1.066406 7.132812 -0.800781 6.8125 -0.59375 C 6.488281 -0.382812 6.113281 -0.234375 5.6875 -0.140625 C 5.257812 -0.046875 4.804688 0 4.328125 0 L 1.109375 0 L 1.109375 -9.21875 L 3.921875 -9.21875 C 4.453125 -9.21875 4.925781 -9.175781 5.34375 -9.09375 C 5.769531 -9.007812 6.128906 -8.875 6.421875 -8.6875 C 6.710938 -8.507812 6.929688 -8.28125 7.078125 -8 C 7.234375 -7.71875 7.3125 -7.378906 7.3125 -6.984375 C 7.3125 -6.734375 7.273438 -6.488281 7.203125 -6.25 C 7.128906 -6.019531 7.015625 -5.8125 6.859375 -5.625 C 6.703125 -5.445312 6.507812 -5.289062 6.28125 -5.15625 C 6.0625 -5.019531 5.796875 -4.921875 5.484375 -4.859375 C 5.867188 -4.816406 6.207031 -4.734375 6.5 -4.609375 C 6.800781 -4.484375 7.050781 -4.320312 7.25 -4.125 C 7.457031 -3.925781 7.613281 -3.695312 7.71875 -3.4375 C 7.820312 -3.175781 7.875 -2.894531 7.875 -2.59375 Z M 6 -6.828125 C 6 -7.304688 5.828125 -7.648438 5.484375 -7.859375 C 5.140625 -8.066406 4.625 -8.171875 3.9375 -8.171875 L 2.40625 -8.171875 L 2.40625 -5.328125 L 3.953125 -5.328125 C 4.316406 -5.328125 4.628906 -5.363281 4.890625 -5.4375 C 5.148438 -5.507812 5.363281 -5.609375 5.53125 -5.734375 C 5.695312 -5.867188 5.816406 -6.023438 5.890625 -6.203125 C 5.960938 -6.390625 6 -6.597656 6 -6.828125 Z M 6.5625 -2.71875 C 6.5625 -3 6.5 -3.238281 6.375 -3.4375 C 6.257812 -3.644531 6.097656 -3.8125 5.890625 -3.9375 C 5.679688 -4.070312 5.425781 -4.164062 5.125 -4.21875 C 4.832031 -4.28125 4.503906 -4.3125 4.140625 -4.3125 L 2.40625 -4.3125 L 2.40625 -1.046875 L 4.234375 -1.046875 C 4.566406 -1.046875 4.875 -1.070312 5.15625 -1.125 C 5.4375 -1.175781 5.679688 -1.265625 5.890625 -1.390625 C 6.097656 -1.523438 6.257812 -1.695312 6.375 -1.90625 C 6.5 -2.125 6.5625 -2.394531 6.5625 -2.71875 Z M 6.5625 -2.71875 \"/>\n",
       "</symbol>\n",
       "<symbol overflow=\"visible\" id=\"glyph0-3\">\n",
       "<path style=\"stroke:none;\" d=\"M 2.140625 -4.65625 C 2.140625 -4.0625 2.1875 -3.53125 2.28125 -3.0625 C 2.375 -2.601562 2.515625 -2.210938 2.703125 -1.890625 C 2.898438 -1.578125 3.144531 -1.335938 3.4375 -1.171875 C 3.738281 -1.003906 4.097656 -0.921875 4.515625 -0.921875 C 4.804688 -0.921875 5.066406 -0.972656 5.296875 -1.078125 C 5.523438 -1.191406 5.726562 -1.335938 5.90625 -1.515625 C 6.09375 -1.691406 6.25 -1.894531 6.375 -2.125 C 6.507812 -2.363281 6.625 -2.601562 6.71875 -2.84375 L 7.8125 -2.40625 C 7.675781 -2.082031 7.515625 -1.769531 7.328125 -1.46875 C 7.148438 -1.164062 6.925781 -0.894531 6.65625 -0.65625 C 6.394531 -0.414062 6.085938 -0.222656 5.734375 -0.078125 C 5.378906 0.0664062 4.96875 0.140625 4.5 0.140625 C 3.863281 0.140625 3.3125 0.0234375 2.84375 -0.203125 C 2.375 -0.429688 1.984375 -0.753906 1.671875 -1.171875 C 1.367188 -1.597656 1.140625 -2.101562 0.984375 -2.6875 C 0.835938 -3.28125 0.765625 -3.9375 0.765625 -4.65625 C 0.765625 -5.414062 0.835938 -6.085938 0.984375 -6.671875 C 1.128906 -7.253906 1.351562 -7.742188 1.65625 -8.140625 C 1.957031 -8.546875 2.335938 -8.847656 2.796875 -9.046875 C 3.265625 -9.253906 3.8125 -9.359375 4.4375 -9.359375 C 4.894531 -9.359375 5.296875 -9.296875 5.640625 -9.171875 C 5.992188 -9.046875 6.296875 -8.878906 6.546875 -8.671875 C 6.796875 -8.460938 7.007812 -8.21875 7.1875 -7.9375 C 7.363281 -7.664062 7.507812 -7.378906 7.625 -7.078125 L 6.46875 -6.625 C 6.40625 -6.84375 6.3125 -7.050781 6.1875 -7.25 C 6.070312 -7.445312 5.929688 -7.625 5.765625 -7.78125 C 5.597656 -7.9375 5.40625 -8.0625 5.1875 -8.15625 C 4.96875 -8.25 4.71875 -8.296875 4.4375 -8.296875 C 4.03125 -8.296875 3.679688 -8.21875 3.390625 -8.0625 C 3.109375 -7.90625 2.875 -7.671875 2.6875 -7.359375 C 2.5 -7.054688 2.359375 -6.675781 2.265625 -6.21875 C 2.179688 -5.769531 2.140625 -5.25 2.140625 -4.65625 Z M 2.140625 -4.65625 \"/>\n",
       "</symbol>\n",
       "<symbol overflow=\"visible\" id=\"glyph0-4\">\n",
       "<path style=\"stroke:none;\" d=\"M 7.6875 -4.703125 C 7.6875 -3.941406 7.59375 -3.265625 7.40625 -2.671875 C 7.226562 -2.085938 6.96875 -1.597656 6.625 -1.203125 C 6.28125 -0.804688 5.851562 -0.503906 5.34375 -0.296875 C 4.84375 -0.0976562 4.273438 0 3.640625 0 L 1.109375 0 L 1.109375 -9.21875 L 3.234375 -9.21875 C 3.953125 -9.21875 4.585938 -9.128906 5.140625 -8.953125 C 5.691406 -8.785156 6.15625 -8.515625 6.53125 -8.140625 C 6.914062 -7.773438 7.203125 -7.304688 7.390625 -6.734375 C 7.585938 -6.160156 7.6875 -5.484375 7.6875 -4.703125 Z M 6.375 -4.703125 C 6.375 -5.316406 6.3125 -5.84375 6.1875 -6.28125 C 6.0625 -6.71875 5.867188 -7.070312 5.609375 -7.34375 C 5.347656 -7.625 5.019531 -7.828125 4.625 -7.953125 C 4.238281 -8.085938 3.773438 -8.15625 3.234375 -8.15625 L 2.40625 -8.15625 L 2.40625 -1.0625 L 3.515625 -1.0625 C 4.484375 -1.0625 5.203125 -1.363281 5.671875 -1.96875 C 6.140625 -2.582031 6.375 -3.492188 6.375 -4.703125 Z M 6.375 -4.703125 \"/>\n",
       "</symbol>\n",
       "<symbol overflow=\"visible\" id=\"glyph0-5\">\n",
       "<path style=\"stroke:none;\" d=\"M 1.109375 0 L 1.109375 -9.21875 L 7.390625 -9.21875 L 7.390625 -8.15625 L 2.40625 -8.15625 L 2.40625 -5.265625 L 6.984375 -5.265625 L 6.984375 -4.21875 L 2.40625 -4.21875 L 2.40625 -1.0625 L 7.671875 -1.0625 L 7.671875 0 Z M 1.109375 0 \"/>\n",
       "</symbol>\n",
       "</g>\n",
       "</defs>\n",
       "<g id=\"surface20\">\n",
       "<rect x=\"0\" y=\"0\" width=\"200\" height=\"200\" style=\"fill:rgb(100%,100%,100%);fill-opacity:1;stroke:none;\"/>\n",
       "<path style=\"fill:none;stroke-width:1;stroke-linecap:butt;stroke-linejoin:miter;stroke:rgb(26.666667%,26.666667%,26.666667%);stroke-opacity:1;stroke-miterlimit:10;\" d=\"M 180 180 L 107.660156 141.714844 \"/>\n",
       "<path style=\"fill:none;stroke-width:1;stroke-linecap:butt;stroke-linejoin:miter;stroke:rgb(26.666667%,26.666667%,26.666667%);stroke-opacity:1;stroke-miterlimit:10;\" d=\"M 107.660156 141.714844 L 62.65625 85.460938 \"/>\n",
       "<path style=\"fill:none;stroke-width:1;stroke-linecap:butt;stroke-linejoin:miter;stroke:rgb(26.666667%,26.666667%,26.666667%);stroke-opacity:1;stroke-miterlimit:10;\" d=\"M 107.660156 141.714844 L 20 142.292969 \"/>\n",
       "<path style=\"fill:none;stroke-width:1;stroke-linecap:butt;stroke-linejoin:miter;stroke:rgb(26.666667%,26.666667%,26.666667%);stroke-opacity:1;stroke-miterlimit:10;\" d=\"M 62.65625 85.460938 L 20 142.292969 \"/>\n",
       "<path style=\"fill:none;stroke-width:1;stroke-linecap:butt;stroke-linejoin:miter;stroke:rgb(26.666667%,26.666667%,26.666667%);stroke-opacity:1;stroke-miterlimit:10;\" d=\"M 62.65625 85.460938 L 52 20 \"/>\n",
       "<path style=\"fill-rule:nonzero;fill:rgb(0%,100%,0%);fill-opacity:1;stroke-width:1;stroke-linecap:butt;stroke-linejoin:miter;stroke:rgb(0%,0%,0%);stroke-opacity:1;stroke-miterlimit:10;\" d=\"M 185 180 C 185 186.667969 175 186.667969 175 180 C 175 173.332031 185 173.332031 185 180 \"/>\n",
       "<path style=\"fill-rule:nonzero;fill:rgb(0%,100%,0%);fill-opacity:1;stroke-width:1;stroke-linecap:butt;stroke-linejoin:miter;stroke:rgb(0%,0%,0%);stroke-opacity:1;stroke-miterlimit:10;\" d=\"M 122.660156 141.714844 C 122.660156 150 115.945312 156.714844 107.660156 156.714844 C 99.375 156.714844 92.660156 150 92.660156 141.714844 C 92.660156 133.429688 99.375 126.714844 107.660156 126.714844 C 115.945312 126.714844 122.660156 133.429688 122.660156 141.714844 \"/>\n",
       "<path style=\"fill-rule:nonzero;fill:rgb(0%,100%,0%);fill-opacity:1;stroke-width:1;stroke-linecap:butt;stroke-linejoin:miter;stroke:rgb(0%,0%,0%);stroke-opacity:1;stroke-miterlimit:10;\" d=\"M 77.65625 85.460938 C 77.65625 93.746094 70.941406 100.460938 62.65625 100.460938 C 54.375 100.460938 47.65625 93.746094 47.65625 85.460938 C 47.65625 77.175781 54.375 70.460938 62.65625 70.460938 C 70.941406 70.460938 77.65625 77.175781 77.65625 85.460938 \"/>\n",
       "<path style=\"fill-rule:nonzero;fill:rgb(0%,100%,0%);fill-opacity:1;stroke-width:1;stroke-linecap:butt;stroke-linejoin:miter;stroke:rgb(0%,0%,0%);stroke-opacity:1;stroke-miterlimit:10;\" d=\"M 30 142.292969 C 30 147.816406 25.523438 152.292969 20 152.292969 C 14.476562 152.292969 10 147.816406 10 142.292969 C 10 136.769531 14.476562 132.292969 20 132.292969 C 25.523438 132.292969 30 136.769531 30 142.292969 \"/>\n",
       "<path style=\"fill-rule:nonzero;fill:rgb(0%,100%,0%);fill-opacity:1;stroke-width:1;stroke-linecap:butt;stroke-linejoin:miter;stroke:rgb(0%,0%,0%);stroke-opacity:1;stroke-miterlimit:10;\" d=\"M 57 20 C 57 26.667969 47 26.667969 47 20 C 47 13.332031 57 13.332031 57 20 \"/>\n",
       "<g style=\"fill:rgb(0%,0%,0%);fill-opacity:1;\">\n",
       "  <use xlink:href=\"#glyph0-1\" x=\"175.804688\" y=\"186.710938\"/>\n",
       "</g>\n",
       "<g style=\"fill:rgb(0%,0%,0%);fill-opacity:1;\">\n",
       "  <use xlink:href=\"#glyph0-2\" x=\"103.167969\" y=\"148.425781\"/>\n",
       "</g>\n",
       "<g style=\"fill:rgb(0%,0%,0%);fill-opacity:1;\">\n",
       "  <use xlink:href=\"#glyph0-3\" x=\"58.367188\" y=\"92.246094\"/>\n",
       "</g>\n",
       "<g style=\"fill:rgb(0%,0%,0%);fill-opacity:1;\">\n",
       "  <use xlink:href=\"#glyph0-4\" x=\"15.601562\" y=\"149.007812\"/>\n",
       "</g>\n",
       "<g style=\"fill:rgb(0%,0%,0%);fill-opacity:1;\">\n",
       "  <use xlink:href=\"#glyph0-5\" x=\"47.613281\" y=\"26.710938\"/>\n",
       "</g>\n",
       "</g>\n",
       "</svg>\n"
      ],
      "text/plain": [
       "<igraph.drawing.cairo.plot.CairoPlot at 0x7abe9f44cfb0>"
      ]
     },
     "execution_count": 32,
     "metadata": {
      "image/svg+xml": {
       "isolated": true
      }
     },
     "output_type": "execute_result"
    }
   ],
   "source": [
    "deg = g.degree()\n",
    "vertex_size_list = [i*10 for i in deg]\n",
    "plot(g, vertex_size=vertex_size_list, vertex_color=[\"green\"], vertex_label=[\"A\",\"B\",\"C\",\"D\",\"E\"], bbox=(200,200))"
   ]
  },
  {
   "cell_type": "markdown",
   "id": "461b75e6-374b-400e-8f0c-07024f5fe85d",
   "metadata": {
    "id": "461b75e6-374b-400e-8f0c-07024f5fe85d"
   },
   "source": [
    "### Mounting descriptive table (dataframe)"
   ]
  },
  {
   "cell_type": "code",
   "execution_count": 33,
   "id": "d66862e8-3d81-4e96-98d5-64951cbbb85a",
   "metadata": {
    "colab": {
     "base_uri": "https://localhost:8080/",
     "height": 206
    },
    "executionInfo": {
     "elapsed": 18,
     "status": "ok",
     "timestamp": 1758248495293,
     "user": {
      "displayName": "",
      "userId": ""
     },
     "user_tz": 180
    },
    "id": "d66862e8-3d81-4e96-98d5-64951cbbb85a",
    "outputId": "9d4f018e-588a-41bd-bc1b-94a71883fcf6"
   },
   "outputs": [
    {
     "data": {
      "application/vnd.google.colaboratory.intrinsic+json": {
       "summary": "{\n  \"name\": \"             columns=[\\\"names\\\",\\\"degree\\\",\\\"clustering_coefficient\\\",\\\"closeness\\\",\\\"eccentricity\\\"])\",\n  \"rows\": 5,\n  \"fields\": [\n    {\n      \"column\": \"names\",\n      \"properties\": {\n        \"dtype\": \"string\",\n        \"num_unique_values\": 5,\n        \"samples\": [\n          \"B\",\n          \"E\",\n          \"C\"\n        ],\n        \"semantic_type\": \"\",\n        \"description\": \"\"\n      }\n    },\n    {\n      \"column\": \"degree\",\n      \"properties\": {\n        \"dtype\": \"string\",\n        \"num_unique_values\": 3,\n        \"samples\": [\n          \"1\",\n          \"3\",\n          \"2\"\n        ],\n        \"semantic_type\": \"\",\n        \"description\": \"\"\n      }\n    },\n    {\n      \"column\": \"clustering_coefficient\",\n      \"properties\": {\n        \"dtype\": \"string\",\n        \"num_unique_values\": 3,\n        \"samples\": [\n          \"nan\",\n          \"0.3333333333333333\",\n          \"1.0\"\n        ],\n        \"semantic_type\": \"\",\n        \"description\": \"\"\n      }\n    },\n    {\n      \"column\": \"closeness\",\n      \"properties\": {\n        \"dtype\": \"string\",\n        \"num_unique_values\": 3,\n        \"samples\": [\n          \"0.5\",\n          \"0.8\",\n          \"0.6666666666666666\"\n        ],\n        \"semantic_type\": \"\",\n        \"description\": \"\"\n      }\n    },\n    {\n      \"column\": \"eccentricity\",\n      \"properties\": {\n        \"dtype\": \"category\",\n        \"num_unique_values\": 2,\n        \"samples\": [\n          \"2.0\",\n          \"3.0\"\n        ],\n        \"semantic_type\": \"\",\n        \"description\": \"\"\n      }\n    }\n  ]\n}",
       "type": "dataframe"
      },
      "text/html": [
       "\n",
       "  <div id=\"df-48357aa7-20a1-4e20-9eb2-416cda5836de\" class=\"colab-df-container\">\n",
       "    <div>\n",
       "<style scoped>\n",
       "    .dataframe tbody tr th:only-of-type {\n",
       "        vertical-align: middle;\n",
       "    }\n",
       "\n",
       "    .dataframe tbody tr th {\n",
       "        vertical-align: top;\n",
       "    }\n",
       "\n",
       "    .dataframe thead th {\n",
       "        text-align: right;\n",
       "    }\n",
       "</style>\n",
       "<table border=\"1\" class=\"dataframe\">\n",
       "  <thead>\n",
       "    <tr style=\"text-align: right;\">\n",
       "      <th></th>\n",
       "      <th>names</th>\n",
       "      <th>degree</th>\n",
       "      <th>clustering_coefficient</th>\n",
       "      <th>closeness</th>\n",
       "      <th>eccentricity</th>\n",
       "    </tr>\n",
       "  </thead>\n",
       "  <tbody>\n",
       "    <tr>\n",
       "      <th>0</th>\n",
       "      <td>A</td>\n",
       "      <td>1</td>\n",
       "      <td>nan</td>\n",
       "      <td>0.5</td>\n",
       "      <td>3.0</td>\n",
       "    </tr>\n",
       "    <tr>\n",
       "      <th>1</th>\n",
       "      <td>B</td>\n",
       "      <td>3</td>\n",
       "      <td>0.3333333333333333</td>\n",
       "      <td>0.8</td>\n",
       "      <td>2.0</td>\n",
       "    </tr>\n",
       "    <tr>\n",
       "      <th>2</th>\n",
       "      <td>C</td>\n",
       "      <td>3</td>\n",
       "      <td>0.3333333333333333</td>\n",
       "      <td>0.8</td>\n",
       "      <td>2.0</td>\n",
       "    </tr>\n",
       "    <tr>\n",
       "      <th>3</th>\n",
       "      <td>D</td>\n",
       "      <td>2</td>\n",
       "      <td>1.0</td>\n",
       "      <td>0.6666666666666666</td>\n",
       "      <td>2.0</td>\n",
       "    </tr>\n",
       "    <tr>\n",
       "      <th>4</th>\n",
       "      <td>E</td>\n",
       "      <td>1</td>\n",
       "      <td>nan</td>\n",
       "      <td>0.5</td>\n",
       "      <td>3.0</td>\n",
       "    </tr>\n",
       "  </tbody>\n",
       "</table>\n",
       "</div>\n",
       "    <div class=\"colab-df-buttons\">\n",
       "\n",
       "  <div class=\"colab-df-container\">\n",
       "    <button class=\"colab-df-convert\" onclick=\"convertToInteractive('df-48357aa7-20a1-4e20-9eb2-416cda5836de')\"\n",
       "            title=\"Convert this dataframe to an interactive table.\"\n",
       "            style=\"display:none;\">\n",
       "\n",
       "  <svg xmlns=\"http://www.w3.org/2000/svg\" height=\"24px\" viewBox=\"0 -960 960 960\">\n",
       "    <path d=\"M120-120v-720h720v720H120Zm60-500h600v-160H180v160Zm220 220h160v-160H400v160Zm0 220h160v-160H400v160ZM180-400h160v-160H180v160Zm440 0h160v-160H620v160ZM180-180h160v-160H180v160Zm440 0h160v-160H620v160Z\"/>\n",
       "  </svg>\n",
       "    </button>\n",
       "\n",
       "  <style>\n",
       "    .colab-df-container {\n",
       "      display:flex;\n",
       "      gap: 12px;\n",
       "    }\n",
       "\n",
       "    .colab-df-convert {\n",
       "      background-color: #E8F0FE;\n",
       "      border: none;\n",
       "      border-radius: 50%;\n",
       "      cursor: pointer;\n",
       "      display: none;\n",
       "      fill: #1967D2;\n",
       "      height: 32px;\n",
       "      padding: 0 0 0 0;\n",
       "      width: 32px;\n",
       "    }\n",
       "\n",
       "    .colab-df-convert:hover {\n",
       "      background-color: #E2EBFA;\n",
       "      box-shadow: 0px 1px 2px rgba(60, 64, 67, 0.3), 0px 1px 3px 1px rgba(60, 64, 67, 0.15);\n",
       "      fill: #174EA6;\n",
       "    }\n",
       "\n",
       "    .colab-df-buttons div {\n",
       "      margin-bottom: 4px;\n",
       "    }\n",
       "\n",
       "    [theme=dark] .colab-df-convert {\n",
       "      background-color: #3B4455;\n",
       "      fill: #D2E3FC;\n",
       "    }\n",
       "\n",
       "    [theme=dark] .colab-df-convert:hover {\n",
       "      background-color: #434B5C;\n",
       "      box-shadow: 0px 1px 3px 1px rgba(0, 0, 0, 0.15);\n",
       "      filter: drop-shadow(0px 1px 2px rgba(0, 0, 0, 0.3));\n",
       "      fill: #FFFFFF;\n",
       "    }\n",
       "  </style>\n",
       "\n",
       "    <script>\n",
       "      const buttonEl =\n",
       "        document.querySelector('#df-48357aa7-20a1-4e20-9eb2-416cda5836de button.colab-df-convert');\n",
       "      buttonEl.style.display =\n",
       "        google.colab.kernel.accessAllowed ? 'block' : 'none';\n",
       "\n",
       "      async function convertToInteractive(key) {\n",
       "        const element = document.querySelector('#df-48357aa7-20a1-4e20-9eb2-416cda5836de');\n",
       "        const dataTable =\n",
       "          await google.colab.kernel.invokeFunction('convertToInteractive',\n",
       "                                                    [key], {});\n",
       "        if (!dataTable) return;\n",
       "\n",
       "        const docLinkHtml = 'Like what you see? Visit the ' +\n",
       "          '<a target=\"_blank\" href=https://colab.research.google.com/notebooks/data_table.ipynb>data table notebook</a>'\n",
       "          + ' to learn more about interactive tables.';\n",
       "        element.innerHTML = '';\n",
       "        dataTable['output_type'] = 'display_data';\n",
       "        await google.colab.output.renderOutput(dataTable, element);\n",
       "        const docLink = document.createElement('div');\n",
       "        docLink.innerHTML = docLinkHtml;\n",
       "        element.appendChild(docLink);\n",
       "      }\n",
       "    </script>\n",
       "  </div>\n",
       "\n",
       "\n",
       "    <div id=\"df-0533491e-9f4d-4b28-b16b-6b02e4e808f7\">\n",
       "      <button class=\"colab-df-quickchart\" onclick=\"quickchart('df-0533491e-9f4d-4b28-b16b-6b02e4e808f7')\"\n",
       "                title=\"Suggest charts\"\n",
       "                style=\"display:none;\">\n",
       "\n",
       "<svg xmlns=\"http://www.w3.org/2000/svg\" height=\"24px\"viewBox=\"0 0 24 24\"\n",
       "     width=\"24px\">\n",
       "    <g>\n",
       "        <path d=\"M19 3H5c-1.1 0-2 .9-2 2v14c0 1.1.9 2 2 2h14c1.1 0 2-.9 2-2V5c0-1.1-.9-2-2-2zM9 17H7v-7h2v7zm4 0h-2V7h2v10zm4 0h-2v-4h2v4z\"/>\n",
       "    </g>\n",
       "</svg>\n",
       "      </button>\n",
       "\n",
       "<style>\n",
       "  .colab-df-quickchart {\n",
       "      --bg-color: #E8F0FE;\n",
       "      --fill-color: #1967D2;\n",
       "      --hover-bg-color: #E2EBFA;\n",
       "      --hover-fill-color: #174EA6;\n",
       "      --disabled-fill-color: #AAA;\n",
       "      --disabled-bg-color: #DDD;\n",
       "  }\n",
       "\n",
       "  [theme=dark] .colab-df-quickchart {\n",
       "      --bg-color: #3B4455;\n",
       "      --fill-color: #D2E3FC;\n",
       "      --hover-bg-color: #434B5C;\n",
       "      --hover-fill-color: #FFFFFF;\n",
       "      --disabled-bg-color: #3B4455;\n",
       "      --disabled-fill-color: #666;\n",
       "  }\n",
       "\n",
       "  .colab-df-quickchart {\n",
       "    background-color: var(--bg-color);\n",
       "    border: none;\n",
       "    border-radius: 50%;\n",
       "    cursor: pointer;\n",
       "    display: none;\n",
       "    fill: var(--fill-color);\n",
       "    height: 32px;\n",
       "    padding: 0;\n",
       "    width: 32px;\n",
       "  }\n",
       "\n",
       "  .colab-df-quickchart:hover {\n",
       "    background-color: var(--hover-bg-color);\n",
       "    box-shadow: 0 1px 2px rgba(60, 64, 67, 0.3), 0 1px 3px 1px rgba(60, 64, 67, 0.15);\n",
       "    fill: var(--button-hover-fill-color);\n",
       "  }\n",
       "\n",
       "  .colab-df-quickchart-complete:disabled,\n",
       "  .colab-df-quickchart-complete:disabled:hover {\n",
       "    background-color: var(--disabled-bg-color);\n",
       "    fill: var(--disabled-fill-color);\n",
       "    box-shadow: none;\n",
       "  }\n",
       "\n",
       "  .colab-df-spinner {\n",
       "    border: 2px solid var(--fill-color);\n",
       "    border-color: transparent;\n",
       "    border-bottom-color: var(--fill-color);\n",
       "    animation:\n",
       "      spin 1s steps(1) infinite;\n",
       "  }\n",
       "\n",
       "  @keyframes spin {\n",
       "    0% {\n",
       "      border-color: transparent;\n",
       "      border-bottom-color: var(--fill-color);\n",
       "      border-left-color: var(--fill-color);\n",
       "    }\n",
       "    20% {\n",
       "      border-color: transparent;\n",
       "      border-left-color: var(--fill-color);\n",
       "      border-top-color: var(--fill-color);\n",
       "    }\n",
       "    30% {\n",
       "      border-color: transparent;\n",
       "      border-left-color: var(--fill-color);\n",
       "      border-top-color: var(--fill-color);\n",
       "      border-right-color: var(--fill-color);\n",
       "    }\n",
       "    40% {\n",
       "      border-color: transparent;\n",
       "      border-right-color: var(--fill-color);\n",
       "      border-top-color: var(--fill-color);\n",
       "    }\n",
       "    60% {\n",
       "      border-color: transparent;\n",
       "      border-right-color: var(--fill-color);\n",
       "    }\n",
       "    80% {\n",
       "      border-color: transparent;\n",
       "      border-right-color: var(--fill-color);\n",
       "      border-bottom-color: var(--fill-color);\n",
       "    }\n",
       "    90% {\n",
       "      border-color: transparent;\n",
       "      border-bottom-color: var(--fill-color);\n",
       "    }\n",
       "  }\n",
       "</style>\n",
       "\n",
       "      <script>\n",
       "        async function quickchart(key) {\n",
       "          const quickchartButtonEl =\n",
       "            document.querySelector('#' + key + ' button');\n",
       "          quickchartButtonEl.disabled = true;  // To prevent multiple clicks.\n",
       "          quickchartButtonEl.classList.add('colab-df-spinner');\n",
       "          try {\n",
       "            const charts = await google.colab.kernel.invokeFunction(\n",
       "                'suggestCharts', [key], {});\n",
       "          } catch (error) {\n",
       "            console.error('Error during call to suggestCharts:', error);\n",
       "          }\n",
       "          quickchartButtonEl.classList.remove('colab-df-spinner');\n",
       "          quickchartButtonEl.classList.add('colab-df-quickchart-complete');\n",
       "        }\n",
       "        (() => {\n",
       "          let quickchartButtonEl =\n",
       "            document.querySelector('#df-0533491e-9f4d-4b28-b16b-6b02e4e808f7 button');\n",
       "          quickchartButtonEl.style.display =\n",
       "            google.colab.kernel.accessAllowed ? 'block' : 'none';\n",
       "        })();\n",
       "      </script>\n",
       "    </div>\n",
       "\n",
       "    </div>\n",
       "  </div>\n"
      ],
      "text/plain": [
       "  names degree clustering_coefficient           closeness eccentricity\n",
       "0     A      1                    nan                 0.5          3.0\n",
       "1     B      3     0.3333333333333333                 0.8          2.0\n",
       "2     C      3     0.3333333333333333                 0.8          2.0\n",
       "3     D      2                    1.0  0.6666666666666666          2.0\n",
       "4     E      1                    nan                 0.5          3.0"
      ]
     },
     "execution_count": 33,
     "metadata": {},
     "output_type": "execute_result"
    }
   ],
   "source": [
    "names = [\"A\",\"B\",\"C\",\"D\",\"E\"]\n",
    "degree = g.degree()\n",
    "clustering_coefficient = g.transitivity_local_undirected()\n",
    "closeness = g.closeness(weights=None, normalized=True)\n",
    "betweenness = g.betweenness(weights=None)\n",
    "eccentricity = g.eccentricity()\n",
    "pd.DataFrame(np.column_stack([names, degree, clustering_coefficient, closeness, eccentricity]),\n",
    "             columns=[\"names\",\"degree\",\"clustering_coefficient\",\"closeness\",\"eccentricity\"])"
   ]
  },
  {
   "cell_type": "markdown",
   "id": "733a751d-7400-474f-a89e-05dbb8563196",
   "metadata": {
    "id": "733a751d-7400-474f-a89e-05dbb8563196"
   },
   "source": [
    "### Mounting descriptive table (Dataframe) using a custom function"
   ]
  },
  {
   "cell_type": "code",
   "execution_count": 34,
   "id": "b582b16a-f267-49ab-97ba-b5686314f6ad",
   "metadata": {
    "colab": {
     "base_uri": "https://localhost:8080/",
     "height": 206
    },
    "executionInfo": {
     "elapsed": 93,
     "status": "ok",
     "timestamp": 1758248495395,
     "user": {
      "displayName": "",
      "userId": ""
     },
     "user_tz": 180
    },
    "id": "b582b16a-f267-49ab-97ba-b5686314f6ad",
    "outputId": "63473683-8de0-4f73-f3d1-89c5e6604e51"
   },
   "outputs": [
    {
     "data": {
      "application/vnd.google.colaboratory.intrinsic+json": {
       "summary": "{\n  \"name\": \"network_statistics\",\n  \"rows\": 5,\n  \"fields\": [\n    {\n      \"column\": \"node_id\",\n      \"properties\": {\n        \"dtype\": \"number\",\n        \"std\": 1,\n        \"min\": 0,\n        \"max\": 4,\n        \"num_unique_values\": 5,\n        \"samples\": [\n          1,\n          4,\n          2\n        ],\n        \"semantic_type\": \"\",\n        \"description\": \"\"\n      }\n    },\n    {\n      \"column\": \"names\",\n      \"properties\": {\n        \"dtype\": \"string\",\n        \"num_unique_values\": 5,\n        \"samples\": [\n          \"B\",\n          \"E\",\n          \"C\"\n        ],\n        \"semantic_type\": \"\",\n        \"description\": \"\"\n      }\n    },\n    {\n      \"column\": \"degree\",\n      \"properties\": {\n        \"dtype\": \"number\",\n        \"std\": 1,\n        \"min\": 1,\n        \"max\": 3,\n        \"num_unique_values\": 3,\n        \"samples\": [\n          1,\n          3,\n          2\n        ],\n        \"semantic_type\": \"\",\n        \"description\": \"\"\n      }\n    },\n    {\n      \"column\": \"cc\",\n      \"properties\": {\n        \"dtype\": \"number\",\n        \"std\": 0.3849001794597505,\n        \"min\": 0.3333333333333333,\n        \"max\": 1.0,\n        \"num_unique_values\": 2,\n        \"samples\": [\n          1.0,\n          0.3333333333333333\n        ],\n        \"semantic_type\": \"\",\n        \"description\": \"\"\n      }\n    },\n    {\n      \"column\": \"closeness\",\n      \"properties\": {\n        \"dtype\": \"number\",\n        \"std\": 0.15018507101425083,\n        \"min\": 0.5,\n        \"max\": 0.8,\n        \"num_unique_values\": 3,\n        \"samples\": [\n          0.5,\n          0.8\n        ],\n        \"semantic_type\": \"\",\n        \"description\": \"\"\n      }\n    },\n    {\n      \"column\": \"betweenness\",\n      \"properties\": {\n        \"dtype\": \"number\",\n        \"std\": 1.6431676725154982,\n        \"min\": 0.0,\n        \"max\": 3.0,\n        \"num_unique_values\": 2,\n        \"samples\": [\n          3.0,\n          0.0\n        ],\n        \"semantic_type\": \"\",\n        \"description\": \"\"\n      }\n    },\n    {\n      \"column\": \"bridge\",\n      \"properties\": {\n        \"dtype\": \"number\",\n        \"std\": 0,\n        \"min\": 0,\n        \"max\": 1,\n        \"num_unique_values\": 2,\n        \"samples\": [\n          1,\n          0\n        ],\n        \"semantic_type\": \"\",\n        \"description\": \"\"\n      }\n    }\n  ]\n}",
       "type": "dataframe",
       "variable_name": "network_statistics"
      },
      "text/html": [
       "\n",
       "  <div id=\"df-5fc978dd-6027-41fe-bbf2-8c42fe6d790f\" class=\"colab-df-container\">\n",
       "    <div>\n",
       "<style scoped>\n",
       "    .dataframe tbody tr th:only-of-type {\n",
       "        vertical-align: middle;\n",
       "    }\n",
       "\n",
       "    .dataframe tbody tr th {\n",
       "        vertical-align: top;\n",
       "    }\n",
       "\n",
       "    .dataframe thead th {\n",
       "        text-align: right;\n",
       "    }\n",
       "</style>\n",
       "<table border=\"1\" class=\"dataframe\">\n",
       "  <thead>\n",
       "    <tr style=\"text-align: right;\">\n",
       "      <th></th>\n",
       "      <th>node_id</th>\n",
       "      <th>names</th>\n",
       "      <th>degree</th>\n",
       "      <th>cc</th>\n",
       "      <th>closeness</th>\n",
       "      <th>betweenness</th>\n",
       "      <th>bridge</th>\n",
       "    </tr>\n",
       "  </thead>\n",
       "  <tbody>\n",
       "    <tr>\n",
       "      <th>0</th>\n",
       "      <td>0</td>\n",
       "      <td>A</td>\n",
       "      <td>1</td>\n",
       "      <td>NaN</td>\n",
       "      <td>0.500000</td>\n",
       "      <td>0.0</td>\n",
       "      <td>0</td>\n",
       "    </tr>\n",
       "    <tr>\n",
       "      <th>1</th>\n",
       "      <td>1</td>\n",
       "      <td>B</td>\n",
       "      <td>3</td>\n",
       "      <td>0.333333</td>\n",
       "      <td>0.800000</td>\n",
       "      <td>3.0</td>\n",
       "      <td>1</td>\n",
       "    </tr>\n",
       "    <tr>\n",
       "      <th>2</th>\n",
       "      <td>2</td>\n",
       "      <td>C</td>\n",
       "      <td>3</td>\n",
       "      <td>0.333333</td>\n",
       "      <td>0.800000</td>\n",
       "      <td>3.0</td>\n",
       "      <td>1</td>\n",
       "    </tr>\n",
       "    <tr>\n",
       "      <th>3</th>\n",
       "      <td>3</td>\n",
       "      <td>D</td>\n",
       "      <td>2</td>\n",
       "      <td>1.000000</td>\n",
       "      <td>0.666667</td>\n",
       "      <td>0.0</td>\n",
       "      <td>0</td>\n",
       "    </tr>\n",
       "    <tr>\n",
       "      <th>4</th>\n",
       "      <td>4</td>\n",
       "      <td>E</td>\n",
       "      <td>1</td>\n",
       "      <td>NaN</td>\n",
       "      <td>0.500000</td>\n",
       "      <td>0.0</td>\n",
       "      <td>0</td>\n",
       "    </tr>\n",
       "  </tbody>\n",
       "</table>\n",
       "</div>\n",
       "    <div class=\"colab-df-buttons\">\n",
       "\n",
       "  <div class=\"colab-df-container\">\n",
       "    <button class=\"colab-df-convert\" onclick=\"convertToInteractive('df-5fc978dd-6027-41fe-bbf2-8c42fe6d790f')\"\n",
       "            title=\"Convert this dataframe to an interactive table.\"\n",
       "            style=\"display:none;\">\n",
       "\n",
       "  <svg xmlns=\"http://www.w3.org/2000/svg\" height=\"24px\" viewBox=\"0 -960 960 960\">\n",
       "    <path d=\"M120-120v-720h720v720H120Zm60-500h600v-160H180v160Zm220 220h160v-160H400v160Zm0 220h160v-160H400v160ZM180-400h160v-160H180v160Zm440 0h160v-160H620v160ZM180-180h160v-160H180v160Zm440 0h160v-160H620v160Z\"/>\n",
       "  </svg>\n",
       "    </button>\n",
       "\n",
       "  <style>\n",
       "    .colab-df-container {\n",
       "      display:flex;\n",
       "      gap: 12px;\n",
       "    }\n",
       "\n",
       "    .colab-df-convert {\n",
       "      background-color: #E8F0FE;\n",
       "      border: none;\n",
       "      border-radius: 50%;\n",
       "      cursor: pointer;\n",
       "      display: none;\n",
       "      fill: #1967D2;\n",
       "      height: 32px;\n",
       "      padding: 0 0 0 0;\n",
       "      width: 32px;\n",
       "    }\n",
       "\n",
       "    .colab-df-convert:hover {\n",
       "      background-color: #E2EBFA;\n",
       "      box-shadow: 0px 1px 2px rgba(60, 64, 67, 0.3), 0px 1px 3px 1px rgba(60, 64, 67, 0.15);\n",
       "      fill: #174EA6;\n",
       "    }\n",
       "\n",
       "    .colab-df-buttons div {\n",
       "      margin-bottom: 4px;\n",
       "    }\n",
       "\n",
       "    [theme=dark] .colab-df-convert {\n",
       "      background-color: #3B4455;\n",
       "      fill: #D2E3FC;\n",
       "    }\n",
       "\n",
       "    [theme=dark] .colab-df-convert:hover {\n",
       "      background-color: #434B5C;\n",
       "      box-shadow: 0px 1px 3px 1px rgba(0, 0, 0, 0.15);\n",
       "      filter: drop-shadow(0px 1px 2px rgba(0, 0, 0, 0.3));\n",
       "      fill: #FFFFFF;\n",
       "    }\n",
       "  </style>\n",
       "\n",
       "    <script>\n",
       "      const buttonEl =\n",
       "        document.querySelector('#df-5fc978dd-6027-41fe-bbf2-8c42fe6d790f button.colab-df-convert');\n",
       "      buttonEl.style.display =\n",
       "        google.colab.kernel.accessAllowed ? 'block' : 'none';\n",
       "\n",
       "      async function convertToInteractive(key) {\n",
       "        const element = document.querySelector('#df-5fc978dd-6027-41fe-bbf2-8c42fe6d790f');\n",
       "        const dataTable =\n",
       "          await google.colab.kernel.invokeFunction('convertToInteractive',\n",
       "                                                    [key], {});\n",
       "        if (!dataTable) return;\n",
       "\n",
       "        const docLinkHtml = 'Like what you see? Visit the ' +\n",
       "          '<a target=\"_blank\" href=https://colab.research.google.com/notebooks/data_table.ipynb>data table notebook</a>'\n",
       "          + ' to learn more about interactive tables.';\n",
       "        element.innerHTML = '';\n",
       "        dataTable['output_type'] = 'display_data';\n",
       "        await google.colab.output.renderOutput(dataTable, element);\n",
       "        const docLink = document.createElement('div');\n",
       "        docLink.innerHTML = docLinkHtml;\n",
       "        element.appendChild(docLink);\n",
       "      }\n",
       "    </script>\n",
       "  </div>\n",
       "\n",
       "\n",
       "    <div id=\"df-fe8a4826-ee96-4ba3-a3d0-beb91950f08f\">\n",
       "      <button class=\"colab-df-quickchart\" onclick=\"quickchart('df-fe8a4826-ee96-4ba3-a3d0-beb91950f08f')\"\n",
       "                title=\"Suggest charts\"\n",
       "                style=\"display:none;\">\n",
       "\n",
       "<svg xmlns=\"http://www.w3.org/2000/svg\" height=\"24px\"viewBox=\"0 0 24 24\"\n",
       "     width=\"24px\">\n",
       "    <g>\n",
       "        <path d=\"M19 3H5c-1.1 0-2 .9-2 2v14c0 1.1.9 2 2 2h14c1.1 0 2-.9 2-2V5c0-1.1-.9-2-2-2zM9 17H7v-7h2v7zm4 0h-2V7h2v10zm4 0h-2v-4h2v4z\"/>\n",
       "    </g>\n",
       "</svg>\n",
       "      </button>\n",
       "\n",
       "<style>\n",
       "  .colab-df-quickchart {\n",
       "      --bg-color: #E8F0FE;\n",
       "      --fill-color: #1967D2;\n",
       "      --hover-bg-color: #E2EBFA;\n",
       "      --hover-fill-color: #174EA6;\n",
       "      --disabled-fill-color: #AAA;\n",
       "      --disabled-bg-color: #DDD;\n",
       "  }\n",
       "\n",
       "  [theme=dark] .colab-df-quickchart {\n",
       "      --bg-color: #3B4455;\n",
       "      --fill-color: #D2E3FC;\n",
       "      --hover-bg-color: #434B5C;\n",
       "      --hover-fill-color: #FFFFFF;\n",
       "      --disabled-bg-color: #3B4455;\n",
       "      --disabled-fill-color: #666;\n",
       "  }\n",
       "\n",
       "  .colab-df-quickchart {\n",
       "    background-color: var(--bg-color);\n",
       "    border: none;\n",
       "    border-radius: 50%;\n",
       "    cursor: pointer;\n",
       "    display: none;\n",
       "    fill: var(--fill-color);\n",
       "    height: 32px;\n",
       "    padding: 0;\n",
       "    width: 32px;\n",
       "  }\n",
       "\n",
       "  .colab-df-quickchart:hover {\n",
       "    background-color: var(--hover-bg-color);\n",
       "    box-shadow: 0 1px 2px rgba(60, 64, 67, 0.3), 0 1px 3px 1px rgba(60, 64, 67, 0.15);\n",
       "    fill: var(--button-hover-fill-color);\n",
       "  }\n",
       "\n",
       "  .colab-df-quickchart-complete:disabled,\n",
       "  .colab-df-quickchart-complete:disabled:hover {\n",
       "    background-color: var(--disabled-bg-color);\n",
       "    fill: var(--disabled-fill-color);\n",
       "    box-shadow: none;\n",
       "  }\n",
       "\n",
       "  .colab-df-spinner {\n",
       "    border: 2px solid var(--fill-color);\n",
       "    border-color: transparent;\n",
       "    border-bottom-color: var(--fill-color);\n",
       "    animation:\n",
       "      spin 1s steps(1) infinite;\n",
       "  }\n",
       "\n",
       "  @keyframes spin {\n",
       "    0% {\n",
       "      border-color: transparent;\n",
       "      border-bottom-color: var(--fill-color);\n",
       "      border-left-color: var(--fill-color);\n",
       "    }\n",
       "    20% {\n",
       "      border-color: transparent;\n",
       "      border-left-color: var(--fill-color);\n",
       "      border-top-color: var(--fill-color);\n",
       "    }\n",
       "    30% {\n",
       "      border-color: transparent;\n",
       "      border-left-color: var(--fill-color);\n",
       "      border-top-color: var(--fill-color);\n",
       "      border-right-color: var(--fill-color);\n",
       "    }\n",
       "    40% {\n",
       "      border-color: transparent;\n",
       "      border-right-color: var(--fill-color);\n",
       "      border-top-color: var(--fill-color);\n",
       "    }\n",
       "    60% {\n",
       "      border-color: transparent;\n",
       "      border-right-color: var(--fill-color);\n",
       "    }\n",
       "    80% {\n",
       "      border-color: transparent;\n",
       "      border-right-color: var(--fill-color);\n",
       "      border-bottom-color: var(--fill-color);\n",
       "    }\n",
       "    90% {\n",
       "      border-color: transparent;\n",
       "      border-bottom-color: var(--fill-color);\n",
       "    }\n",
       "  }\n",
       "</style>\n",
       "\n",
       "      <script>\n",
       "        async function quickchart(key) {\n",
       "          const quickchartButtonEl =\n",
       "            document.querySelector('#' + key + ' button');\n",
       "          quickchartButtonEl.disabled = true;  // To prevent multiple clicks.\n",
       "          quickchartButtonEl.classList.add('colab-df-spinner');\n",
       "          try {\n",
       "            const charts = await google.colab.kernel.invokeFunction(\n",
       "                'suggestCharts', [key], {});\n",
       "          } catch (error) {\n",
       "            console.error('Error during call to suggestCharts:', error);\n",
       "          }\n",
       "          quickchartButtonEl.classList.remove('colab-df-spinner');\n",
       "          quickchartButtonEl.classList.add('colab-df-quickchart-complete');\n",
       "        }\n",
       "        (() => {\n",
       "          let quickchartButtonEl =\n",
       "            document.querySelector('#df-fe8a4826-ee96-4ba3-a3d0-beb91950f08f button');\n",
       "          quickchartButtonEl.style.display =\n",
       "            google.colab.kernel.accessAllowed ? 'block' : 'none';\n",
       "        })();\n",
       "      </script>\n",
       "    </div>\n",
       "\n",
       "  <div id=\"id_95c873e9-bf77-42ab-95d8-f4cfcad870ab\">\n",
       "    <style>\n",
       "      .colab-df-generate {\n",
       "        background-color: #E8F0FE;\n",
       "        border: none;\n",
       "        border-radius: 50%;\n",
       "        cursor: pointer;\n",
       "        display: none;\n",
       "        fill: #1967D2;\n",
       "        height: 32px;\n",
       "        padding: 0 0 0 0;\n",
       "        width: 32px;\n",
       "      }\n",
       "\n",
       "      .colab-df-generate:hover {\n",
       "        background-color: #E2EBFA;\n",
       "        box-shadow: 0px 1px 2px rgba(60, 64, 67, 0.3), 0px 1px 3px 1px rgba(60, 64, 67, 0.15);\n",
       "        fill: #174EA6;\n",
       "      }\n",
       "\n",
       "      [theme=dark] .colab-df-generate {\n",
       "        background-color: #3B4455;\n",
       "        fill: #D2E3FC;\n",
       "      }\n",
       "\n",
       "      [theme=dark] .colab-df-generate:hover {\n",
       "        background-color: #434B5C;\n",
       "        box-shadow: 0px 1px 3px 1px rgba(0, 0, 0, 0.15);\n",
       "        filter: drop-shadow(0px 1px 2px rgba(0, 0, 0, 0.3));\n",
       "        fill: #FFFFFF;\n",
       "      }\n",
       "    </style>\n",
       "    <button class=\"colab-df-generate\" onclick=\"generateWithVariable('network_statistics')\"\n",
       "            title=\"Generate code using this dataframe.\"\n",
       "            style=\"display:none;\">\n",
       "\n",
       "  <svg xmlns=\"http://www.w3.org/2000/svg\" height=\"24px\"viewBox=\"0 0 24 24\"\n",
       "       width=\"24px\">\n",
       "    <path d=\"M7,19H8.4L18.45,9,17,7.55,7,17.6ZM5,21V16.75L18.45,3.32a2,2,0,0,1,2.83,0l1.4,1.43a1.91,1.91,0,0,1,.58,1.4,1.91,1.91,0,0,1-.58,1.4L9.25,21ZM18.45,9,17,7.55Zm-12,3A5.31,5.31,0,0,0,4.9,8.1,5.31,5.31,0,0,0,1,6.5,5.31,5.31,0,0,0,4.9,4.9,5.31,5.31,0,0,0,6.5,1,5.31,5.31,0,0,0,8.1,4.9,5.31,5.31,0,0,0,12,6.5,5.46,5.46,0,0,0,6.5,12Z\"/>\n",
       "  </svg>\n",
       "    </button>\n",
       "    <script>\n",
       "      (() => {\n",
       "      const buttonEl =\n",
       "        document.querySelector('#id_95c873e9-bf77-42ab-95d8-f4cfcad870ab button.colab-df-generate');\n",
       "      buttonEl.style.display =\n",
       "        google.colab.kernel.accessAllowed ? 'block' : 'none';\n",
       "\n",
       "      buttonEl.onclick = () => {\n",
       "        google.colab.notebook.generateWithVariable('network_statistics');\n",
       "      }\n",
       "      })();\n",
       "    </script>\n",
       "  </div>\n",
       "\n",
       "    </div>\n",
       "  </div>\n"
      ],
      "text/plain": [
       "   node_id names  degree        cc  closeness  betweenness  bridge\n",
       "0        0     A       1       NaN   0.500000          0.0       0\n",
       "1        1     B       3  0.333333   0.800000          3.0       1\n",
       "2        2     C       3  0.333333   0.800000          3.0       1\n",
       "3        3     D       2  1.000000   0.666667          0.0       0\n",
       "4        4     E       1       NaN   0.500000          0.0       0"
      ]
     },
     "execution_count": 34,
     "metadata": {},
     "output_type": "execute_result"
    }
   ],
   "source": [
    "# creating and calling a custom function that receives a Graph instance and a list of the respective id numbers of each vertice\n",
    "# in the graph (starting from zero)\n",
    "def network_statistics(network_graph, node_id_list:list) -> pd.DataFrame:\n",
    "    df = pd.DataFrame({\"node_id\":node_id_list})\n",
    "    df[\"names\"] = network_graph.vs[\"name\"]\n",
    "    df[\"degree\"] = network_graph.degree()\n",
    "    df[\"cc\"] = network_graph.transitivity_local_undirected()\n",
    "    df[\"closeness\"] = network_graph.closeness(weights=None, normalized=True)\n",
    "    df[\"betweenness\"] = network_graph.betweenness()\n",
    "    df[\"bridge\"] = df[\"node_id\"].isin(network_graph.articulation_points()).astype(int)\n",
    "    return df\n",
    "\n",
    "# calling the descriptor table passing the Graph instance g used before:\n",
    "network_statistics = network_statistics(g, list(range(g.vcount())))\n",
    "network_statistics"
   ]
  },
  {
   "cell_type": "code",
   "execution_count": 34,
   "id": "82462228-7508-477e-a0d9-de0eb90e94ff",
   "metadata": {
    "executionInfo": {
     "elapsed": 3,
     "status": "ok",
     "timestamp": 1758248495409,
     "user": {
      "displayName": "",
      "userId": ""
     },
     "user_tz": 180
    },
    "id": "82462228-7508-477e-a0d9-de0eb90e94ff"
   },
   "outputs": [],
   "source": []
  }
 ],
 "metadata": {
  "colab": {
   "provenance": [
    {
     "file_id": "https://github.com/danielpm1982/sample-social-network-analysis/blob/master/base-sna-statistics.ipynb",
     "timestamp": 1758248505885
    }
   ]
  },
  "kernelspec": {
   "display_name": "Python 3 (ipykernel)",
   "language": "python",
   "name": "python3"
  },
  "language_info": {
   "codemirror_mode": {
    "name": "ipython",
    "version": 3
   },
   "file_extension": ".py",
   "mimetype": "text/x-python",
   "name": "python",
   "nbconvert_exporter": "python",
   "pygments_lexer": "ipython3",
   "version": "3.13.7"
  }
 },
 "nbformat": 4,
 "nbformat_minor": 5
}
