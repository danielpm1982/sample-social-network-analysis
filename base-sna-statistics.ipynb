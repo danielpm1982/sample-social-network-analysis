{
 "cells": [
  {
   "cell_type": "markdown",
   "id": "79049f67-2e34-499a-bb01-6a13cf338c6c",
   "metadata": {},
   "source": [
    "## Base Social Network Analysis Statistics Using Python"
   ]
  },
  {
   "cell_type": "markdown",
   "id": "3ef156b3-d14d-405c-8d91-252461a23082",
   "metadata": {},
   "source": [
    "### Creating the graph"
   ]
  },
  {
   "cell_type": "code",
   "execution_count": 1,
   "id": "c97ff816-c0eb-4978-a0a8-971ce9b2be5f",
   "metadata": {},
   "outputs": [],
   "source": [
    "# importing libs (already installed using Conda - see environment.yml)\n",
    "from igraph import Graph, plot\n",
    "import pandas as pd\n",
    "import numpy as np"
   ]
  },
  {
   "cell_type": "code",
   "execution_count": 2,
   "id": "147998ec-2b56-4a05-b8a5-eb55e8df9652",
   "metadata": {},
   "outputs": [
    {
     "name": "stdout",
     "output_type": "stream",
     "text": [
      "IGRAPH UN-- 5 5 --\n",
      "+ attr: name (v)\n",
      "+ edges (vertex names):\n",
      "A--B, B--C, B--D, C--D, C--E\n"
     ]
    }
   ],
   "source": [
    "# creating sample graph, setting vertices and edges\n",
    "g = Graph()\n",
    "g.add_vertices(5)\n",
    "g.vs[\"name\"] = [\"A\", \"B\", \"C\", \"D\", \"E\"]\n",
    "g.add_edges([(\"A\",\"B\"), (\"B\",\"C\"), (\"B\",\"D\"), (\"D\",\"C\"), (\"C\",\"E\")])\n",
    "print(g)"
   ]
  },
  {
   "cell_type": "code",
   "execution_count": 3,
   "id": "0e37ba53-d9aa-4772-bc8f-60f7ad989f5f",
   "metadata": {},
   "outputs": [],
   "source": [
    "# setting weights (later set as each edge_width), here an undirected graph with all weights equal\n",
    "g.es[\"weight\"]=[1,1,1,1,1]"
   ]
  },
  {
   "cell_type": "code",
   "execution_count": 4,
   "id": "293cf706-07af-48bd-8d3d-a26365ba89c9",
   "metadata": {},
   "outputs": [
    {
     "data": {
      "image/svg+xml": [
       "<?xml version=\"1.0\" encoding=\"UTF-8\"?>\n",
       "<svg xmlns=\"http://www.w3.org/2000/svg\" xmlns:xlink=\"http://www.w3.org/1999/xlink\" width=\"200\" height=\"200\" viewBox=\"0 0 200 200\">\n",
       "<defs>\n",
       "<g>\n",
       "<g id=\"glyph-0-0\">\n",
       "<path d=\"M 7.625 0 L 6.421875 -3.09375 L 2.46875 -3.09375 L 1.28125 0 L 0 0 L 3.90625 -10.03125 L 5.046875 -10.03125 L 8.9375 0 Z M 4.921875 -7.234375 C 4.898438 -7.304688 4.851562 -7.441406 4.78125 -7.640625 C 4.71875 -7.835938 4.65625 -8.039062 4.59375 -8.25 C 4.539062 -8.457031 4.492188 -8.617188 4.453125 -8.734375 C 4.390625 -8.441406 4.316406 -8.15625 4.234375 -7.875 C 4.148438 -7.601562 4.078125 -7.390625 4.015625 -7.234375 L 2.890625 -4.21875 L 6.046875 -4.21875 Z M 4.921875 -7.234375 \"/>\n",
       "</g>\n",
       "<g id=\"glyph-0-1\">\n",
       "<path d=\"M 4.21875 -10 C 5.46875 -10 6.410156 -9.8125 7.046875 -9.4375 C 7.691406 -9.070312 8.015625 -8.429688 8.015625 -7.515625 C 8.015625 -6.929688 7.847656 -6.441406 7.515625 -6.046875 C 7.191406 -5.660156 6.722656 -5.414062 6.109375 -5.3125 L 6.109375 -5.234375 C 6.523438 -5.171875 6.898438 -5.050781 7.234375 -4.875 C 7.578125 -4.695312 7.847656 -4.441406 8.046875 -4.109375 C 8.242188 -3.785156 8.34375 -3.363281 8.34375 -2.84375 C 8.34375 -1.9375 8.03125 -1.234375 7.40625 -0.734375 C 6.789062 -0.242188 5.945312 0 4.875 0 L 1.359375 0 L 1.359375 -10 Z M 4.46875 -5.734375 C 5.320312 -5.734375 5.90625 -5.867188 6.21875 -6.140625 C 6.539062 -6.421875 6.703125 -6.832031 6.703125 -7.375 C 6.703125 -7.925781 6.507812 -8.320312 6.125 -8.5625 C 5.738281 -8.800781 5.117188 -8.921875 4.265625 -8.921875 L 2.625 -8.921875 L 2.625 -5.734375 Z M 2.625 -4.6875 L 2.625 -1.0625 L 4.640625 -1.0625 C 5.523438 -1.0625 6.140625 -1.234375 6.484375 -1.578125 C 6.828125 -1.921875 7 -2.375 7 -2.9375 C 7 -3.457031 6.816406 -3.878906 6.453125 -4.203125 C 6.097656 -4.523438 5.457031 -4.6875 4.53125 -4.6875 Z M 2.625 -4.6875 \"/>\n",
       "</g>\n",
       "<g id=\"glyph-0-2\">\n",
       "<path d=\"M 5.640625 -9.03125 C 4.566406 -9.03125 3.722656 -8.671875 3.109375 -7.953125 C 2.492188 -7.234375 2.1875 -6.25 2.1875 -5 C 2.1875 -3.757812 2.472656 -2.773438 3.046875 -2.046875 C 3.617188 -1.328125 4.476562 -0.96875 5.625 -0.96875 C 6.0625 -0.96875 6.476562 -1.003906 6.875 -1.078125 C 7.269531 -1.148438 7.648438 -1.242188 8.015625 -1.359375 L 8.015625 -0.265625 C 7.648438 -0.128906 7.265625 -0.03125 6.859375 0.03125 C 6.460938 0.101562 5.992188 0.140625 5.453125 0.140625 C 4.429688 0.140625 3.578125 -0.0664062 2.890625 -0.484375 C 2.210938 -0.910156 1.703125 -1.507812 1.359375 -2.28125 C 1.023438 -3.050781 0.859375 -3.960938 0.859375 -5.015625 C 0.859375 -6.023438 1.039062 -6.910156 1.40625 -7.671875 C 1.769531 -8.441406 2.3125 -9.046875 3.03125 -9.484375 C 3.75 -9.921875 4.625 -10.140625 5.65625 -10.140625 C 6.707031 -10.140625 7.625 -9.941406 8.40625 -9.546875 L 7.90625 -8.484375 C 7.601562 -8.617188 7.257812 -8.742188 6.875 -8.859375 C 6.5 -8.972656 6.085938 -9.03125 5.640625 -9.03125 Z M 5.640625 -9.03125 \"/>\n",
       "</g>\n",
       "<g id=\"glyph-0-3\">\n",
       "<path d=\"M 9.359375 -5.09375 C 9.359375 -3.40625 8.898438 -2.132812 7.984375 -1.28125 C 7.066406 -0.425781 5.785156 0 4.140625 0 L 1.359375 0 L 1.359375 -10 L 4.4375 -10 C 5.445312 -10 6.316406 -9.8125 7.046875 -9.4375 C 7.785156 -9.0625 8.351562 -8.507812 8.75 -7.78125 C 9.15625 -7.0625 9.359375 -6.164062 9.359375 -5.09375 Z M 8.03125 -5.046875 C 8.03125 -6.390625 7.703125 -7.367188 7.046875 -7.984375 C 6.390625 -8.609375 5.457031 -8.921875 4.25 -8.921875 L 2.625 -8.921875 L 2.625 -1.078125 L 3.96875 -1.078125 C 6.675781 -1.078125 8.03125 -2.398438 8.03125 -5.046875 Z M 8.03125 -5.046875 \"/>\n",
       "</g>\n",
       "<g id=\"glyph-0-4\">\n",
       "<path d=\"M 6.9375 0 L 1.359375 0 L 1.359375 -10 L 6.9375 -10 L 6.9375 -8.890625 L 2.625 -8.890625 L 2.625 -5.765625 L 6.6875 -5.765625 L 6.6875 -4.671875 L 2.625 -4.671875 L 2.625 -1.109375 L 6.9375 -1.109375 Z M 6.9375 0 \"/>\n",
       "</g>\n",
       "</g>\n",
       "</defs>\n",
       "<rect x=\"-20\" y=\"-20\" width=\"240\" height=\"240\" fill=\"rgb(100%, 100%, 100%)\" fill-opacity=\"1\"/>\n",
       "<path fill=\"none\" stroke-width=\"1\" stroke-linecap=\"butt\" stroke-linejoin=\"miter\" stroke=\"rgb(26.666667%, 26.666667%, 26.666667%)\" stroke-opacity=\"1\" stroke-miterlimit=\"10\" d=\"M 180 180 L 107.660156 141.714844 \"/>\n",
       "<path fill=\"none\" stroke-width=\"1\" stroke-linecap=\"butt\" stroke-linejoin=\"miter\" stroke=\"rgb(26.666667%, 26.666667%, 26.666667%)\" stroke-opacity=\"1\" stroke-miterlimit=\"10\" d=\"M 107.660156 141.714844 L 62.65625 85.460938 \"/>\n",
       "<path fill=\"none\" stroke-width=\"1\" stroke-linecap=\"butt\" stroke-linejoin=\"miter\" stroke=\"rgb(26.666667%, 26.666667%, 26.666667%)\" stroke-opacity=\"1\" stroke-miterlimit=\"10\" d=\"M 107.660156 141.714844 L 20 142.292969 \"/>\n",
       "<path fill=\"none\" stroke-width=\"1\" stroke-linecap=\"butt\" stroke-linejoin=\"miter\" stroke=\"rgb(26.666667%, 26.666667%, 26.666667%)\" stroke-opacity=\"1\" stroke-miterlimit=\"10\" d=\"M 62.65625 85.460938 L 20 142.292969 \"/>\n",
       "<path fill=\"none\" stroke-width=\"1\" stroke-linecap=\"butt\" stroke-linejoin=\"miter\" stroke=\"rgb(26.666667%, 26.666667%, 26.666667%)\" stroke-opacity=\"1\" stroke-miterlimit=\"10\" d=\"M 62.65625 85.460938 L 52 20 \"/>\n",
       "<path fill-rule=\"nonzero\" fill=\"rgb(100%, 100%, 100%)\" fill-opacity=\"1\" stroke-width=\"1\" stroke-linecap=\"butt\" stroke-linejoin=\"miter\" stroke=\"rgb(0%, 0%, 0%)\" stroke-opacity=\"1\" stroke-miterlimit=\"10\" d=\"M 190 180 C 190 185.523438 185.523438 190 180 190 C 174.476562 190 170 185.523438 170 180 C 170 174.476562 174.476562 170 180 170 C 185.523438 170 190 174.476562 190 180 \"/>\n",
       "<path fill-rule=\"nonzero\" fill=\"rgb(100%, 100%, 100%)\" fill-opacity=\"1\" stroke-width=\"1\" stroke-linecap=\"butt\" stroke-linejoin=\"miter\" stroke=\"rgb(0%, 0%, 0%)\" stroke-opacity=\"1\" stroke-miterlimit=\"10\" d=\"M 117.660156 141.714844 C 117.660156 147.238281 113.183594 151.714844 107.660156 151.714844 C 102.136719 151.714844 97.660156 147.238281 97.660156 141.714844 C 97.660156 136.191406 102.136719 131.714844 107.660156 131.714844 C 113.183594 131.714844 117.660156 136.191406 117.660156 141.714844 \"/>\n",
       "<path fill-rule=\"nonzero\" fill=\"rgb(100%, 100%, 100%)\" fill-opacity=\"1\" stroke-width=\"1\" stroke-linecap=\"butt\" stroke-linejoin=\"miter\" stroke=\"rgb(0%, 0%, 0%)\" stroke-opacity=\"1\" stroke-miterlimit=\"10\" d=\"M 72.65625 85.460938 C 72.65625 90.984375 68.179688 95.460938 62.65625 95.460938 C 57.136719 95.460938 52.65625 90.984375 52.65625 85.460938 C 52.65625 79.9375 57.136719 75.460938 62.65625 75.460938 C 68.179688 75.460938 72.65625 79.9375 72.65625 85.460938 \"/>\n",
       "<path fill-rule=\"nonzero\" fill=\"rgb(100%, 100%, 100%)\" fill-opacity=\"1\" stroke-width=\"1\" stroke-linecap=\"butt\" stroke-linejoin=\"miter\" stroke=\"rgb(0%, 0%, 0%)\" stroke-opacity=\"1\" stroke-miterlimit=\"10\" d=\"M 30 142.292969 C 30 147.816406 25.523438 152.292969 20 152.292969 C 14.476562 152.292969 10 147.816406 10 142.292969 C 10 136.769531 14.476562 132.292969 20 132.292969 C 25.523438 132.292969 30 136.769531 30 142.292969 \"/>\n",
       "<path fill-rule=\"nonzero\" fill=\"rgb(100%, 100%, 100%)\" fill-opacity=\"1\" stroke-width=\"1\" stroke-linecap=\"butt\" stroke-linejoin=\"miter\" stroke=\"rgb(0%, 0%, 0%)\" stroke-opacity=\"1\" stroke-miterlimit=\"10\" d=\"M 62 20 C 62 25.523438 57.523438 30 52 30 C 46.480469 30 42 25.523438 42 20 C 42 14.476562 46.480469 10 52 10 C 57.523438 10 62 14.476562 62 20 \"/>\n",
       "<g fill=\"rgb(0%, 0%, 0%)\" fill-opacity=\"1\">\n",
       "<use xlink:href=\"#glyph-0-0\" x=\"175.535156\" y=\"187.070312\"/>\n",
       "</g>\n",
       "<g fill=\"rgb(0%, 0%, 0%)\" fill-opacity=\"1\">\n",
       "<use xlink:href=\"#glyph-0-1\" x=\"102.808594\" y=\"148.761719\"/>\n",
       "</g>\n",
       "<g fill=\"rgb(0%, 0%, 0%)\" fill-opacity=\"1\">\n",
       "<use xlink:href=\"#glyph-0-2\" x=\"58.023438\" y=\"92.578125\"/>\n",
       "</g>\n",
       "<g fill=\"rgb(0%, 0%, 0%)\" fill-opacity=\"1\">\n",
       "<use xlink:href=\"#glyph-0-3\" x=\"14.636719\" y=\"149.34375\"/>\n",
       "</g>\n",
       "<g fill=\"rgb(0%, 0%, 0%)\" fill-opacity=\"1\">\n",
       "<use xlink:href=\"#glyph-0-4\" x=\"47.851562\" y=\"27.050781\"/>\n",
       "</g>\n",
       "</svg>\n"
      ],
      "text/plain": [
       "<igraph.drawing.cairo.plot.CairoPlot at 0x7860743b57f0>"
      ]
     },
     "execution_count": 4,
     "metadata": {
      "image/svg+xml": {
       "isolated": true
      }
     },
     "output_type": "execute_result"
    }
   ],
   "source": [
    "# configuring properties and plotting graph\n",
    "layout = g.layout(\"kk\")\n",
    "visual_style = {}\n",
    "visual_style[\"vertex_color\"] = \"white\"\n",
    "visual_style[\"vertex_size\"] = 20\n",
    "visual_style[\"vertex_label\"] = [\"A\", \"B\", \"C\", \"D\", \"E\"]\n",
    "visual_style[\"edge_width\"] = g.es[\"weight\"]\n",
    "visual_style[\"bbox\"] = (200,200)\n",
    "plot(g, **visual_style)"
   ]
  },
  {
   "cell_type": "markdown",
   "id": "792a8d12-1834-416d-9956-2b6998c16f18",
   "metadata": {},
   "source": [
    "### Extracting network metrics"
   ]
  },
  {
   "cell_type": "code",
   "execution_count": 5,
   "id": "69af293e-a80e-4036-a808-7e53852a717c",
   "metadata": {},
   "outputs": [
    {
     "data": {
      "text/plain": [
       "0.5"
      ]
     },
     "execution_count": 5,
     "metadata": {},
     "output_type": "execute_result"
    }
   ],
   "source": [
    "g.density()"
   ]
  },
  {
   "cell_type": "code",
   "execution_count": 6,
   "id": "92fbdf7e-66ec-409c-bfd4-a15572c1b3a9",
   "metadata": {},
   "outputs": [
    {
     "data": {
      "text/plain": [
       "[1, 3, 3, 2, 1]"
      ]
     },
     "execution_count": 6,
     "metadata": {},
     "output_type": "execute_result"
    }
   ],
   "source": [
    "# degree of each vertex (from A to E)\n",
    "g.degree()"
   ]
  },
  {
   "cell_type": "code",
   "execution_count": 7,
   "id": "3693c4ab-c5e4-4f72-a14b-64d57c0b31a2",
   "metadata": {},
   "outputs": [
    {
     "data": {
      "text/plain": [
       "[nan, 0.3333333333333333, 0.3333333333333333, 1.0, nan]"
      ]
     },
     "execution_count": 7,
     "metadata": {},
     "output_type": "execute_result"
    }
   ],
   "source": [
    "# clustering coefficient (cc) of each vertex (from A to E)\n",
    "g.transitivity_local_undirected()"
   ]
  },
  {
   "cell_type": "code",
   "execution_count": 8,
   "id": "6203e169-388e-498a-bcc1-180e4dd07fbf",
   "metadata": {},
   "outputs": [
    {
     "data": {
      "text/plain": [
       "1.6"
      ]
     },
     "execution_count": 8,
     "metadata": {},
     "output_type": "execute_result"
    }
   ],
   "source": [
    "g.average_path_length()"
   ]
  },
  {
   "cell_type": "code",
   "execution_count": 9,
   "id": "55b60520-6d1e-4cc8-96f7-29dbae49276d",
   "metadata": {},
   "outputs": [
    {
     "data": {
      "text/plain": [
       "[0.5, 0.8, 0.8, 0.6666666666666666, 0.5]"
      ]
     },
     "execution_count": 9,
     "metadata": {},
     "output_type": "execute_result"
    }
   ],
   "source": [
    "# closeness of each vertex (from A to E)\n",
    "g.closeness(weights=None, normalized=True)"
   ]
  },
  {
   "cell_type": "code",
   "execution_count": 10,
   "id": "a711b724-bfab-4f94-a8de-73647110fa86",
   "metadata": {},
   "outputs": [
    {
     "data": {
      "text/plain": [
       "[0.0, 3.0, 3.0, 0.0, 0.0]"
      ]
     },
     "execution_count": 10,
     "metadata": {},
     "output_type": "execute_result"
    }
   ],
   "source": [
    "# betweenness of each vertex (from A to E)\n",
    "g.betweenness(weights=None)"
   ]
  },
  {
   "cell_type": "code",
   "execution_count": 11,
   "id": "54f68394-61cd-4e84-a949-1f9e4fe93fe1",
   "metadata": {},
   "outputs": [
    {
     "data": {
      "text/plain": [
       "[3.0, 2.0, 2.0, 2.0, 3.0]"
      ]
     },
     "execution_count": 11,
     "metadata": {},
     "output_type": "execute_result"
    }
   ],
   "source": [
    "# eccentricity of each vertex (from A to E)\n",
    "g.eccentricity()"
   ]
  },
  {
   "cell_type": "code",
   "execution_count": 12,
   "id": "67a4a821-9077-46be-b2a2-1d8dad47b0da",
   "metadata": {},
   "outputs": [
    {
     "data": {
      "text/plain": [
       "3"
      ]
     },
     "execution_count": 12,
     "metadata": {},
     "output_type": "execute_result"
    }
   ],
   "source": [
    "g.diameter()"
   ]
  },
  {
   "cell_type": "code",
   "execution_count": 13,
   "id": "a50d9465-5c2e-4846-b7f0-a7038797a181",
   "metadata": {},
   "outputs": [
    {
     "data": {
      "text/plain": [
       "2"
      ]
     },
     "execution_count": 13,
     "metadata": {},
     "output_type": "execute_result"
    }
   ],
   "source": [
    "g.radius()"
   ]
  },
  {
   "cell_type": "code",
   "execution_count": 14,
   "id": "f6f86195-16e6-4da9-8279-6a2275121a91",
   "metadata": {},
   "outputs": [
    {
     "data": {
      "text/plain": [
       "[1, 2]"
      ]
     },
     "execution_count": 14,
     "metadata": {},
     "output_type": "execute_result"
    }
   ],
   "source": [
    "# articulation point (bridge) vertices (B and C, in this case)\n",
    "g.articulation_points()"
   ]
  },
  {
   "cell_type": "markdown",
   "id": "b0264e65-5a9c-4767-ab53-172d95cf0ffe",
   "metadata": {},
   "source": [
    "### Enhacing the graph"
   ]
  },
  {
   "cell_type": "code",
   "execution_count": 15,
   "id": "1e023171-c937-40d2-9a3b-88838338e459",
   "metadata": {},
   "outputs": [
    {
     "data": {
      "image/svg+xml": [
       "<?xml version=\"1.0\" encoding=\"UTF-8\"?>\n",
       "<svg xmlns=\"http://www.w3.org/2000/svg\" xmlns:xlink=\"http://www.w3.org/1999/xlink\" width=\"200\" height=\"200\" viewBox=\"0 0 200 200\">\n",
       "<defs>\n",
       "<g>\n",
       "<g id=\"glyph-0-0\">\n",
       "<path d=\"M 7.625 0 L 6.421875 -3.09375 L 2.46875 -3.09375 L 1.28125 0 L 0 0 L 3.90625 -10.03125 L 5.046875 -10.03125 L 8.9375 0 Z M 4.921875 -7.234375 C 4.898438 -7.304688 4.851562 -7.441406 4.78125 -7.640625 C 4.71875 -7.835938 4.65625 -8.039062 4.59375 -8.25 C 4.539062 -8.457031 4.492188 -8.617188 4.453125 -8.734375 C 4.390625 -8.441406 4.316406 -8.15625 4.234375 -7.875 C 4.148438 -7.601562 4.078125 -7.390625 4.015625 -7.234375 L 2.890625 -4.21875 L 6.046875 -4.21875 Z M 4.921875 -7.234375 \"/>\n",
       "</g>\n",
       "<g id=\"glyph-0-1\">\n",
       "<path d=\"M 4.21875 -10 C 5.46875 -10 6.410156 -9.8125 7.046875 -9.4375 C 7.691406 -9.070312 8.015625 -8.429688 8.015625 -7.515625 C 8.015625 -6.929688 7.847656 -6.441406 7.515625 -6.046875 C 7.191406 -5.660156 6.722656 -5.414062 6.109375 -5.3125 L 6.109375 -5.234375 C 6.523438 -5.171875 6.898438 -5.050781 7.234375 -4.875 C 7.578125 -4.695312 7.847656 -4.441406 8.046875 -4.109375 C 8.242188 -3.785156 8.34375 -3.363281 8.34375 -2.84375 C 8.34375 -1.9375 8.03125 -1.234375 7.40625 -0.734375 C 6.789062 -0.242188 5.945312 0 4.875 0 L 1.359375 0 L 1.359375 -10 Z M 4.46875 -5.734375 C 5.320312 -5.734375 5.90625 -5.867188 6.21875 -6.140625 C 6.539062 -6.421875 6.703125 -6.832031 6.703125 -7.375 C 6.703125 -7.925781 6.507812 -8.320312 6.125 -8.5625 C 5.738281 -8.800781 5.117188 -8.921875 4.265625 -8.921875 L 2.625 -8.921875 L 2.625 -5.734375 Z M 2.625 -4.6875 L 2.625 -1.0625 L 4.640625 -1.0625 C 5.523438 -1.0625 6.140625 -1.234375 6.484375 -1.578125 C 6.828125 -1.921875 7 -2.375 7 -2.9375 C 7 -3.457031 6.816406 -3.878906 6.453125 -4.203125 C 6.097656 -4.523438 5.457031 -4.6875 4.53125 -4.6875 Z M 2.625 -4.6875 \"/>\n",
       "</g>\n",
       "<g id=\"glyph-0-2\">\n",
       "<path d=\"M 5.640625 -9.03125 C 4.566406 -9.03125 3.722656 -8.671875 3.109375 -7.953125 C 2.492188 -7.234375 2.1875 -6.25 2.1875 -5 C 2.1875 -3.757812 2.472656 -2.773438 3.046875 -2.046875 C 3.617188 -1.328125 4.476562 -0.96875 5.625 -0.96875 C 6.0625 -0.96875 6.476562 -1.003906 6.875 -1.078125 C 7.269531 -1.148438 7.648438 -1.242188 8.015625 -1.359375 L 8.015625 -0.265625 C 7.648438 -0.128906 7.265625 -0.03125 6.859375 0.03125 C 6.460938 0.101562 5.992188 0.140625 5.453125 0.140625 C 4.429688 0.140625 3.578125 -0.0664062 2.890625 -0.484375 C 2.210938 -0.910156 1.703125 -1.507812 1.359375 -2.28125 C 1.023438 -3.050781 0.859375 -3.960938 0.859375 -5.015625 C 0.859375 -6.023438 1.039062 -6.910156 1.40625 -7.671875 C 1.769531 -8.441406 2.3125 -9.046875 3.03125 -9.484375 C 3.75 -9.921875 4.625 -10.140625 5.65625 -10.140625 C 6.707031 -10.140625 7.625 -9.941406 8.40625 -9.546875 L 7.90625 -8.484375 C 7.601562 -8.617188 7.257812 -8.742188 6.875 -8.859375 C 6.5 -8.972656 6.085938 -9.03125 5.640625 -9.03125 Z M 5.640625 -9.03125 \"/>\n",
       "</g>\n",
       "<g id=\"glyph-0-3\">\n",
       "<path d=\"M 9.359375 -5.09375 C 9.359375 -3.40625 8.898438 -2.132812 7.984375 -1.28125 C 7.066406 -0.425781 5.785156 0 4.140625 0 L 1.359375 0 L 1.359375 -10 L 4.4375 -10 C 5.445312 -10 6.316406 -9.8125 7.046875 -9.4375 C 7.785156 -9.0625 8.351562 -8.507812 8.75 -7.78125 C 9.15625 -7.0625 9.359375 -6.164062 9.359375 -5.09375 Z M 8.03125 -5.046875 C 8.03125 -6.390625 7.703125 -7.367188 7.046875 -7.984375 C 6.390625 -8.609375 5.457031 -8.921875 4.25 -8.921875 L 2.625 -8.921875 L 2.625 -1.078125 L 3.96875 -1.078125 C 6.675781 -1.078125 8.03125 -2.398438 8.03125 -5.046875 Z M 8.03125 -5.046875 \"/>\n",
       "</g>\n",
       "<g id=\"glyph-0-4\">\n",
       "<path d=\"M 6.9375 0 L 1.359375 0 L 1.359375 -10 L 6.9375 -10 L 6.9375 -8.890625 L 2.625 -8.890625 L 2.625 -5.765625 L 6.6875 -5.765625 L 6.6875 -4.671875 L 2.625 -4.671875 L 2.625 -1.109375 L 6.9375 -1.109375 Z M 6.9375 0 \"/>\n",
       "</g>\n",
       "</g>\n",
       "</defs>\n",
       "<rect x=\"-20\" y=\"-20\" width=\"240\" height=\"240\" fill=\"rgb(100%, 100%, 100%)\" fill-opacity=\"1\"/>\n",
       "<path fill=\"none\" stroke-width=\"1\" stroke-linecap=\"butt\" stroke-linejoin=\"miter\" stroke=\"rgb(26.666667%, 26.666667%, 26.666667%)\" stroke-opacity=\"1\" stroke-miterlimit=\"10\" d=\"M 180 180 L 107.660156 141.714844 \"/>\n",
       "<path fill=\"none\" stroke-width=\"1\" stroke-linecap=\"butt\" stroke-linejoin=\"miter\" stroke=\"rgb(26.666667%, 26.666667%, 26.666667%)\" stroke-opacity=\"1\" stroke-miterlimit=\"10\" d=\"M 107.660156 141.714844 L 62.65625 85.460938 \"/>\n",
       "<path fill=\"none\" stroke-width=\"1\" stroke-linecap=\"butt\" stroke-linejoin=\"miter\" stroke=\"rgb(26.666667%, 26.666667%, 26.666667%)\" stroke-opacity=\"1\" stroke-miterlimit=\"10\" d=\"M 107.660156 141.714844 L 20 142.292969 \"/>\n",
       "<path fill=\"none\" stroke-width=\"1\" stroke-linecap=\"butt\" stroke-linejoin=\"miter\" stroke=\"rgb(26.666667%, 26.666667%, 26.666667%)\" stroke-opacity=\"1\" stroke-miterlimit=\"10\" d=\"M 62.65625 85.460938 L 20 142.292969 \"/>\n",
       "<path fill=\"none\" stroke-width=\"1\" stroke-linecap=\"butt\" stroke-linejoin=\"miter\" stroke=\"rgb(26.666667%, 26.666667%, 26.666667%)\" stroke-opacity=\"1\" stroke-miterlimit=\"10\" d=\"M 62.65625 85.460938 L 52 20 \"/>\n",
       "<path fill-rule=\"nonzero\" fill=\"rgb(0%, 100%, 0%)\" fill-opacity=\"1\" stroke-width=\"1\" stroke-linecap=\"butt\" stroke-linejoin=\"miter\" stroke=\"rgb(0%, 0%, 0%)\" stroke-opacity=\"1\" stroke-miterlimit=\"10\" d=\"M 185 180 C 185 186.667969 175 186.667969 175 180 C 175 173.332031 185 173.332031 185 180 \"/>\n",
       "<path fill-rule=\"nonzero\" fill=\"rgb(0%, 100%, 0%)\" fill-opacity=\"1\" stroke-width=\"1\" stroke-linecap=\"butt\" stroke-linejoin=\"miter\" stroke=\"rgb(0%, 0%, 0%)\" stroke-opacity=\"1\" stroke-miterlimit=\"10\" d=\"M 122.660156 141.714844 C 122.660156 150 115.945312 156.714844 107.660156 156.714844 C 99.375 156.714844 92.660156 150 92.660156 141.714844 C 92.660156 133.429688 99.375 126.714844 107.660156 126.714844 C 115.945312 126.714844 122.660156 133.429688 122.660156 141.714844 \"/>\n",
       "<path fill-rule=\"nonzero\" fill=\"rgb(0%, 100%, 0%)\" fill-opacity=\"1\" stroke-width=\"1\" stroke-linecap=\"butt\" stroke-linejoin=\"miter\" stroke=\"rgb(0%, 0%, 0%)\" stroke-opacity=\"1\" stroke-miterlimit=\"10\" d=\"M 77.65625 85.460938 C 77.65625 93.746094 70.941406 100.460938 62.65625 100.460938 C 54.375 100.460938 47.65625 93.746094 47.65625 85.460938 C 47.65625 77.175781 54.375 70.460938 62.65625 70.460938 C 70.941406 70.460938 77.65625 77.175781 77.65625 85.460938 \"/>\n",
       "<path fill-rule=\"nonzero\" fill=\"rgb(0%, 100%, 0%)\" fill-opacity=\"1\" stroke-width=\"1\" stroke-linecap=\"butt\" stroke-linejoin=\"miter\" stroke=\"rgb(0%, 0%, 0%)\" stroke-opacity=\"1\" stroke-miterlimit=\"10\" d=\"M 30 142.292969 C 30 147.816406 25.523438 152.292969 20 152.292969 C 14.476562 152.292969 10 147.816406 10 142.292969 C 10 136.769531 14.476562 132.292969 20 132.292969 C 25.523438 132.292969 30 136.769531 30 142.292969 \"/>\n",
       "<path fill-rule=\"nonzero\" fill=\"rgb(0%, 100%, 0%)\" fill-opacity=\"1\" stroke-width=\"1\" stroke-linecap=\"butt\" stroke-linejoin=\"miter\" stroke=\"rgb(0%, 0%, 0%)\" stroke-opacity=\"1\" stroke-miterlimit=\"10\" d=\"M 57 20 C 57 26.667969 47 26.667969 47 20 C 47 13.332031 57 13.332031 57 20 \"/>\n",
       "<g fill=\"rgb(0%, 0%, 0%)\" fill-opacity=\"1\">\n",
       "<use xlink:href=\"#glyph-0-0\" x=\"175.535156\" y=\"187.070312\"/>\n",
       "</g>\n",
       "<g fill=\"rgb(0%, 0%, 0%)\" fill-opacity=\"1\">\n",
       "<use xlink:href=\"#glyph-0-1\" x=\"102.808594\" y=\"148.761719\"/>\n",
       "</g>\n",
       "<g fill=\"rgb(0%, 0%, 0%)\" fill-opacity=\"1\">\n",
       "<use xlink:href=\"#glyph-0-2\" x=\"58.023438\" y=\"92.578125\"/>\n",
       "</g>\n",
       "<g fill=\"rgb(0%, 0%, 0%)\" fill-opacity=\"1\">\n",
       "<use xlink:href=\"#glyph-0-3\" x=\"14.636719\" y=\"149.34375\"/>\n",
       "</g>\n",
       "<g fill=\"rgb(0%, 0%, 0%)\" fill-opacity=\"1\">\n",
       "<use xlink:href=\"#glyph-0-4\" x=\"47.851562\" y=\"27.050781\"/>\n",
       "</g>\n",
       "</svg>\n"
      ],
      "text/plain": [
       "<igraph.drawing.cairo.plot.CairoPlot at 0x785fdece9590>"
      ]
     },
     "execution_count": 15,
     "metadata": {
      "image/svg+xml": {
       "isolated": true
      }
     },
     "output_type": "execute_result"
    }
   ],
   "source": [
    "deg = g.degree()\n",
    "vertex_size_list = [i*10 for i in deg]\n",
    "plot(g, vertex_size=vertex_size_list, vertex_color=[\"green\"], vertex_label=[\"A\",\"B\",\"C\",\"D\",\"E\"], bbox=(200,200))"
   ]
  },
  {
   "cell_type": "markdown",
   "id": "461b75e6-374b-400e-8f0c-07024f5fe85d",
   "metadata": {},
   "source": [
    "### Mounting descriptive table (dataframe)"
   ]
  },
  {
   "cell_type": "code",
   "execution_count": 16,
   "id": "d66862e8-3d81-4e96-98d5-64951cbbb85a",
   "metadata": {},
   "outputs": [
    {
     "data": {
      "text/html": [
       "<div>\n",
       "<style scoped>\n",
       "    .dataframe tbody tr th:only-of-type {\n",
       "        vertical-align: middle;\n",
       "    }\n",
       "\n",
       "    .dataframe tbody tr th {\n",
       "        vertical-align: top;\n",
       "    }\n",
       "\n",
       "    .dataframe thead th {\n",
       "        text-align: right;\n",
       "    }\n",
       "</style>\n",
       "<table border=\"1\" class=\"dataframe\">\n",
       "  <thead>\n",
       "    <tr style=\"text-align: right;\">\n",
       "      <th></th>\n",
       "      <th>names</th>\n",
       "      <th>degree</th>\n",
       "      <th>clustering_coefficient</th>\n",
       "      <th>closeness</th>\n",
       "      <th>eccentricity</th>\n",
       "    </tr>\n",
       "  </thead>\n",
       "  <tbody>\n",
       "    <tr>\n",
       "      <th>0</th>\n",
       "      <td>A</td>\n",
       "      <td>1</td>\n",
       "      <td>nan</td>\n",
       "      <td>0.5</td>\n",
       "      <td>3.0</td>\n",
       "    </tr>\n",
       "    <tr>\n",
       "      <th>1</th>\n",
       "      <td>B</td>\n",
       "      <td>3</td>\n",
       "      <td>0.3333333333333333</td>\n",
       "      <td>0.8</td>\n",
       "      <td>2.0</td>\n",
       "    </tr>\n",
       "    <tr>\n",
       "      <th>2</th>\n",
       "      <td>C</td>\n",
       "      <td>3</td>\n",
       "      <td>0.3333333333333333</td>\n",
       "      <td>0.8</td>\n",
       "      <td>2.0</td>\n",
       "    </tr>\n",
       "    <tr>\n",
       "      <th>3</th>\n",
       "      <td>D</td>\n",
       "      <td>2</td>\n",
       "      <td>1.0</td>\n",
       "      <td>0.6666666666666666</td>\n",
       "      <td>2.0</td>\n",
       "    </tr>\n",
       "    <tr>\n",
       "      <th>4</th>\n",
       "      <td>E</td>\n",
       "      <td>1</td>\n",
       "      <td>nan</td>\n",
       "      <td>0.5</td>\n",
       "      <td>3.0</td>\n",
       "    </tr>\n",
       "  </tbody>\n",
       "</table>\n",
       "</div>"
      ],
      "text/plain": [
       "  names degree clustering_coefficient           closeness eccentricity\n",
       "0     A      1                    nan                 0.5          3.0\n",
       "1     B      3     0.3333333333333333                 0.8          2.0\n",
       "2     C      3     0.3333333333333333                 0.8          2.0\n",
       "3     D      2                    1.0  0.6666666666666666          2.0\n",
       "4     E      1                    nan                 0.5          3.0"
      ]
     },
     "execution_count": 16,
     "metadata": {},
     "output_type": "execute_result"
    }
   ],
   "source": [
    "names = [\"A\",\"B\",\"C\",\"D\",\"E\"]\n",
    "degree = g.degree()\n",
    "clustering_coefficient = g.transitivity_local_undirected()\n",
    "closeness = g.closeness(weights=None, normalized=True)\n",
    "betweenness = g.betweenness(weights=None)\n",
    "eccentricity = g.eccentricity()\n",
    "pd.DataFrame(np.column_stack([names, degree, clustering_coefficient, closeness, eccentricity]), \n",
    "             columns=[\"names\",\"degree\",\"clustering_coefficient\",\"closeness\",\"eccentricity\"])"
   ]
  },
  {
   "cell_type": "markdown",
   "id": "733a751d-7400-474f-a89e-05dbb8563196",
   "metadata": {},
   "source": [
    "### Mounting descriptive table (Dataframe) using a custom function"
   ]
  },
  {
   "cell_type": "code",
   "execution_count": 17,
   "id": "b582b16a-f267-49ab-97ba-b5686314f6ad",
   "metadata": {},
   "outputs": [
    {
     "data": {
      "text/html": [
       "<div>\n",
       "<style scoped>\n",
       "    .dataframe tbody tr th:only-of-type {\n",
       "        vertical-align: middle;\n",
       "    }\n",
       "\n",
       "    .dataframe tbody tr th {\n",
       "        vertical-align: top;\n",
       "    }\n",
       "\n",
       "    .dataframe thead th {\n",
       "        text-align: right;\n",
       "    }\n",
       "</style>\n",
       "<table border=\"1\" class=\"dataframe\">\n",
       "  <thead>\n",
       "    <tr style=\"text-align: right;\">\n",
       "      <th></th>\n",
       "      <th>node_id</th>\n",
       "      <th>names</th>\n",
       "      <th>degree</th>\n",
       "      <th>cc</th>\n",
       "      <th>closeness</th>\n",
       "      <th>betweenness</th>\n",
       "      <th>bridge</th>\n",
       "    </tr>\n",
       "  </thead>\n",
       "  <tbody>\n",
       "    <tr>\n",
       "      <th>0</th>\n",
       "      <td>0</td>\n",
       "      <td>A</td>\n",
       "      <td>1</td>\n",
       "      <td>NaN</td>\n",
       "      <td>0.500000</td>\n",
       "      <td>0.0</td>\n",
       "      <td>0</td>\n",
       "    </tr>\n",
       "    <tr>\n",
       "      <th>1</th>\n",
       "      <td>1</td>\n",
       "      <td>B</td>\n",
       "      <td>3</td>\n",
       "      <td>0.333333</td>\n",
       "      <td>0.800000</td>\n",
       "      <td>3.0</td>\n",
       "      <td>1</td>\n",
       "    </tr>\n",
       "    <tr>\n",
       "      <th>2</th>\n",
       "      <td>2</td>\n",
       "      <td>C</td>\n",
       "      <td>3</td>\n",
       "      <td>0.333333</td>\n",
       "      <td>0.800000</td>\n",
       "      <td>3.0</td>\n",
       "      <td>1</td>\n",
       "    </tr>\n",
       "    <tr>\n",
       "      <th>3</th>\n",
       "      <td>3</td>\n",
       "      <td>D</td>\n",
       "      <td>2</td>\n",
       "      <td>1.000000</td>\n",
       "      <td>0.666667</td>\n",
       "      <td>0.0</td>\n",
       "      <td>0</td>\n",
       "    </tr>\n",
       "    <tr>\n",
       "      <th>4</th>\n",
       "      <td>4</td>\n",
       "      <td>E</td>\n",
       "      <td>1</td>\n",
       "      <td>NaN</td>\n",
       "      <td>0.500000</td>\n",
       "      <td>0.0</td>\n",
       "      <td>0</td>\n",
       "    </tr>\n",
       "  </tbody>\n",
       "</table>\n",
       "</div>"
      ],
      "text/plain": [
       "   node_id names  degree        cc  closeness  betweenness  bridge\n",
       "0        0     A       1       NaN   0.500000          0.0       0\n",
       "1        1     B       3  0.333333   0.800000          3.0       1\n",
       "2        2     C       3  0.333333   0.800000          3.0       1\n",
       "3        3     D       2  1.000000   0.666667          0.0       0\n",
       "4        4     E       1       NaN   0.500000          0.0       0"
      ]
     },
     "execution_count": 17,
     "metadata": {},
     "output_type": "execute_result"
    }
   ],
   "source": [
    "# creating and calling a custom function that receives a Graph instance and a list of the respective id numbers of each vertice \n",
    "# in the graph (starting from zero)\n",
    "def network_statistics(network_graph, node_id_list:list) -> pd.DataFrame:\n",
    "    df = pd.DataFrame({\"node_id\":node_id_list})\n",
    "    df[\"names\"] = network_graph.vs[\"name\"]\n",
    "    df[\"degree\"] = network_graph.degree()\n",
    "    df[\"cc\"] = network_graph.transitivity_local_undirected()\n",
    "    df[\"closeness\"] = network_graph.closeness(weights=None, normalized=True)\n",
    "    df[\"betweenness\"] = network_graph.betweenness()\n",
    "    df[\"bridge\"] = df[\"node_id\"].isin(network_graph.articulation_points()).astype(int)\n",
    "    return df\n",
    "\n",
    "# calling the descriptor table passing the Graph instance g used before:\n",
    "network_statistics = network_statistics(g, list(range(g.vcount())))\n",
    "network_statistics"
   ]
  },
  {
   "cell_type": "code",
   "execution_count": null,
   "id": "82462228-7508-477e-a0d9-de0eb90e94ff",
   "metadata": {},
   "outputs": [],
   "source": []
  }
 ],
 "metadata": {
  "kernelspec": {
   "display_name": "Python 3 (ipykernel)",
   "language": "python",
   "name": "python3"
  },
  "language_info": {
   "codemirror_mode": {
    "name": "ipython",
    "version": 3
   },
   "file_extension": ".py",
   "mimetype": "text/x-python",
   "name": "python",
   "nbconvert_exporter": "python",
   "pygments_lexer": "ipython3",
   "version": "3.13.7"
  }
 },
 "nbformat": 4,
 "nbformat_minor": 5
}
